{
 "cells": [
  {
   "cell_type": "code",
   "execution_count": 1,
   "metadata": {},
   "outputs": [],
   "source": [
    "class TiendaOnline:\n",
    "    def __init__ (self):\n",
    "        self.inventario = {}\n",
    "        self.ventas_totales = 0.0  #pide q sea un float por lo tanto pongo 0.0\n",
    "    \n",
    "\n",
    "    # 2. agregar o modificar producto en stock.\n",
    "    def agregar_modificar(self, nombre, precio, stock): # metodo para agregar producto, incluyendo lo que nos pide el ejercicio.\n",
    "        if nombre in self.inventario:   # itero por el inventario,  si \"nombre\" in...\n",
    "            self.inventario [nombre][\"stock\"] = stock # si nombre esta en inventario, actualiza los valores\n",
    "            print( f\"ya existe {nombre}, solo lo actualizo\")\n",
    "        else:\n",
    "            self.inventario[nombre] = {\"precio\" :precio, \"stock\":stock}   # si el producto no esta en el inventario, lo añado como clave = nombre y valor= precio y stock\n",
    "            print (\"no existe, lo he insertado\")\n",
    "\n",
    "    \n",
    "    # 3. ver_inventario con detalle de producto, precio, stock.\n",
    "    \n",
    "    def ver_inventario(self):\n",
    "        for nombre, detalles_nombre in self.inventario.items():   # pongo detalles pq el dicc tiene dos valores (clave: nombre y valor: precio, stock)\n",
    "            print(f\"Nombre: {nombre}, Precio: {detalles_nombre['precio']}, Stock: {detalles_nombre['stock']}\")\n",
    "\n",
    "\n",
    "    # 4. buscar producto concreto en inventario:\n",
    "    def buscar_producto(self, nombre):\n",
    "        if nombre in self.inventario:\n",
    "            detalles = self.inventario[nombre] # le doy la variable detalles y le doy el valor del nombre que busco\n",
    "            print(f\"Producto encontrado:\\nNombre: {nombre}, Precio: {detalles['precio']}, Stock: {detalles['stock']}\")\n",
    "        else:\n",
    "            print(\"No tenemos stock de ese producto.\")\n",
    "    \n",
    "            #lo he hecho con if pero lo piden con for:\n",
    "    \n",
    "    \n",
    "    \n",
    "    #5. actualizar stock.\n",
    "    def actualizar_stock(self, nombre, cantidad):  # solo ponemos nombre y cantidad porque solo quiero actualizar la cantidad de un producto\n",
    "        for producto, detalles in self.inventario.items():\n",
    "            if producto == nombre: #busco el producto por su nombre\n",
    "                detalles [\"stock\"] += cantidad  # sumo la cantidad, pongo stock porque no quiero el precio, solo actualizo el stock.\n",
    "                print (f\"el stock de {nombre} se ha actualizado correctamente\")\n",
    "            \n",
    "            else:\n",
    "                print (\"el producto no esta en el inventario\")\n",
    "        \n",
    "          ## preguntar pq printea tb que no esta en el inventario,, es decir, modifica el stock del producto y tb pon que no esta.\n",
    "    \n",
    "    # 6. eliminar producto del stock.\n",
    "    \n",
    "    def eliminar_producto(self, nombre):\n",
    "        for producto in list(self.inventario.keys()):\n",
    "            if nombre == producto:\n",
    "                del self.inventario [nombre]\n",
    "                break  # probar este break\n",
    "            else:\n",
    "                print(f\"el producto {nombre} no existe en {self.inventario}\")\n",
    "        \n",
    "    \n",
    "    # 7. calcular_valor_inventario(self)`: Calcula y muestra el valor total del inventario.\n",
    "\n",
    "    def calcular_valor_inventario(self):\n",
    "        total_producto = 0\n",
    "        for k,v in self.inventario.items():  # keys y values\n",
    "            print(k)\n",
    "            print (v[\"precio\"] * v[\"stock\"])\n",
    "            total_producto += v [\"precio\"] * v[ \"stock\"]\n",
    "            \n",
    "        \n",
    "        print(\"-------------------------\")\n",
    "\n",
    "        print(f\"el valor total del inventario es de {total_producto}€\")\n",
    "            "
   ]
  },
  {
   "cell_type": "code",
   "execution_count": 2,
   "metadata": {},
   "outputs": [
    {
     "name": "stdout",
     "output_type": "stream",
     "text": [
      "---------------------\n",
      "no existe, lo he insertado\n",
      "{'inventario': {'camiseta': {'precio': 15.99, 'stock': 15}}, 'ventas_totales': 0.0}\n",
      "----------------------\n",
      "no existe, lo he insertado\n",
      "{'inventario': {'camiseta': {'precio': 15.99, 'stock': 15}, 'minifaldas': {'precio': 15.99, 'stock': 15}}, 'ventas_totales': 0.0}\n",
      "----------------------\n",
      "no existe, lo he insertado\n",
      "{'inventario': {'camiseta': {'precio': 15.99, 'stock': 15}, 'minifaldas': {'precio': 15.99, 'stock': 15}, 'vestidos': {'precio': 34.99, 'stock': 20}}, 'ventas_totales': 0.0}\n",
      "------------------------\n",
      "Nombre: camiseta, Precio: 15.99, Stock: 15\n",
      "Nombre: minifaldas, Precio: 15.99, Stock: 15\n",
      "Nombre: vestidos, Precio: 34.99, Stock: 20\n",
      "------------------------\n",
      "Producto encontrado:\n",
      "Nombre: vestidos, Precio: 34.99, Stock: 20\n",
      "--------------------------\n",
      "el stock de camiseta se ha actualizado correctamente\n",
      "el producto no esta en el inventario\n",
      "el producto no esta en el inventario\n",
      "----------------------------\n",
      "--------------------------\n",
      "no existe, lo he insertado\n",
      "-----------------------------\n"
     ]
    }
   ],
   "source": [
    "# prueba de codigo:\n",
    "\n",
    "mi_tienda = TiendaOnline()\n",
    "print(\"---------------------\") \n",
    "mi_tienda.agregar_modificar (\"camiseta\", 15.99, 15)\n",
    "print(mi_tienda.__dict__)\n",
    "print(\"----------------------\")\n",
    "mi_tienda.agregar_modificar (\"minifaldas\", 15.99, 15)\n",
    "print(mi_tienda.__dict__)\n",
    "print(\"----------------------\")\n",
    "mi_tienda.agregar_modificar (\"vestidos\", 34.99, 20)\n",
    "print(mi_tienda.__dict__)\n",
    "print(\"------------------------\")\n",
    "mi_tienda.ver_inventario()\n",
    "print(\"------------------------\")\n",
    "mi_tienda.buscar_producto(\"vestidos\")\n",
    "print(\"--------------------------\")\n",
    "mi_tienda.actualizar_stock(\"camiseta\",20)\n",
    "print(\"----------------------------\")\n",
    "mi_tienda.eliminar_producto (\"camiseta\")\n",
    "print(\"--------------------------\")\n",
    "mi_tienda.agregar_modificar (\"sudaderas\", 22.50, 18)\n",
    "print(\"-----------------------------\")"
   ]
  },
  {
   "cell_type": "code",
   "execution_count": 3,
   "metadata": {},
   "outputs": [
    {
     "data": {
      "text/plain": [
       "{'minifaldas': {'precio': 15.99, 'stock': 15},\n",
       " 'vestidos': {'precio': 34.99, 'stock': 20},\n",
       " 'sudaderas': {'precio': 22.5, 'stock': 18}}"
      ]
     },
     "execution_count": 3,
     "metadata": {},
     "output_type": "execute_result"
    }
   ],
   "source": [
    "mi_tienda.inventario"
   ]
  },
  {
   "cell_type": "code",
   "execution_count": 4,
   "metadata": {},
   "outputs": [
    {
     "name": "stdout",
     "output_type": "stream",
     "text": [
      "minifaldas\n",
      "239.85\n",
      "vestidos\n",
      "699.8000000000001\n",
      "sudaderas\n",
      "405.0\n",
      "-------------------------\n",
      "el valor total del inventario es de 1344.65€\n"
     ]
    }
   ],
   "source": [
    "mi_tienda.calcular_valor_inventario()"
   ]
  },
  {
   "cell_type": "code",
   "execution_count": null,
   "metadata": {},
   "outputs": [],
   "source": []
  }
 ],
 "metadata": {
  "kernelspec": {
   "display_name": "Python 3",
   "language": "python",
   "name": "python3"
  },
  "language_info": {
   "codemirror_mode": {
    "name": "ipython",
    "version": 3
   },
   "file_extension": ".py",
   "mimetype": "text/x-python",
   "name": "python",
   "nbconvert_exporter": "python",
   "pygments_lexer": "ipython3",
   "version": "3.9.6"
  }
 },
 "nbformat": 4,
 "nbformat_minor": 2
}
