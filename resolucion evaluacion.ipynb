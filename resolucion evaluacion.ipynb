{
 "cells": [
  {
   "cell_type": "markdown",
   "metadata": {},
   "source": [
    "Evaluación Final Módulo 1 Data Analytics:\n",
    "\n",
    "1- A lo largo de esta evaluación tendrás que crear una clase llamada `TiendaOnline` que cumpla los siguientes requisitos:\n",
    "\n",
    " - La clase `TiendaOnline` debe tener los siguientes atributos:\n",
    "\n",
    "    1. `inventario` (lista de diccionarios): Un atributo para almacenar los productos en el inventario. Cada producto debe ser representado como un diccionario con las siguientes claves: `'nombre'`, `'precio'`, y `'cantidad'`. Al principio deberá ser una lista vacía. Ejemplo de como debería ser:\n",
    "\n",
    "        ```python\n",
    "            [{'nombre': 'Camisa', 'precio': 20, 'cantidad': 40},\n",
    "            {'nombre': 'Pantalón', 'precio': 30, 'cantidad': 30}]\n",
    "        ```\n",
    "\n",
    "    1. `ventas_totales` (float): Un atributo para llevar un registro de las ventas totales de la tienda. Inicializado con valor 0. "
   ]
  },
  {
   "cell_type": "code",
   "execution_count": 145,
   "metadata": {},
   "outputs": [],
   "source": [
    "class TiendaOnline:    # creo la clase tienda online\n",
    "    pass"
   ]
  },
  {
   "cell_type": "code",
   "execution_count": null,
   "metadata": {},
   "outputs": [],
   "source": [
    "class TiendaOnline:\n",
    "    def __init__(self):\n",
    "        self.inventario = {}     # creo el diccionario vacio \n",
    "        self.ventas_totales = 0.0  #pide q sea un float por lo tanto pongo 0.0\n",
    "    "
   ]
  },
  {
   "cell_type": "markdown",
   "metadata": {},
   "source": [
    "2- La clase `TiendaOnline` debe tener los siguientes métodos:\n",
    "\n",
    "1. `agregar_producto(self, nombre, precio, cantidad)`: Este método agrega un producto al inventario o actualiza su cantidad si ya existe. Debe recibir el nombre, precio y cantidad del producto como parámetros. \n",
    "\n",
    "    - Itera a través del inventario y compara los nombres de los productos con el nombre proporcionado.\n",
    "    - Si el producto ya existe, actualiza la cantidad.\n",
    "    - Si no existe, agrega un nuevo producto al inventario.\n"
   ]
  },
  {
   "cell_type": "code",
   "execution_count": 147,
   "metadata": {},
   "outputs": [],
   "source": [
    "class TiendaOnline:\n",
    "    def __init__ (self):\n",
    "        self.inventario = {}  # creo el diccionario vacio \n",
    "        self.ventas_totales = 0.0  #pide q sea un float por lo tanto pongo 0.0\n",
    "    \n",
    "    def agregar_producto(self, nombre, precio, stock): # metodo para agregar producto, incluyendo lo que nos pide el ejercicio.\n",
    "        if nombre in self.inventario:   # quiero q si el producto que le digo esta en el inventario me diga q ya existe, por eso si \"nombre\" in...\n",
    "            print( \"ya existe\")\n",
    "        else:\n",
    "            self.inventario[nombre] = [precio,stock]   # si el producto no esta en el inventario, lo añado como clave = nombre y valor= precio y stock\n",
    "            print (\"no existe, lo he insertado\")"
   ]
  },
  {
   "cell_type": "code",
   "execution_count": 148,
   "metadata": {},
   "outputs": [
    {
     "name": "stdout",
     "output_type": "stream",
     "text": [
      "no existe, lo he insertado\n",
      "{'camiseta': [19.99, 15]}\n"
     ]
    }
   ],
   "source": [
    "mi_tienda = TiendaOnline ()   #recordar poner siempre los () de tiendaonline ya que necesita el construcctor, sin eso da error.\n",
    "mi_tienda.agregar_producto (\"camiseta\", 19.99, 15)\n",
    "print (mi_tienda.inventario)"
   ]
  },
  {
   "cell_type": "code",
   "execution_count": 149,
   "metadata": {},
   "outputs": [],
   "source": [
    "class TiendaOnline:\n",
    "    def __init__ (self):\n",
    "        self.inventario = {}\n",
    "        self.ventas_totales = 0.0  #pide q sea un float por lo tanto pongo 0.0\n",
    "    \n",
    "    def agregar_modificar(self, nombre, precio, stock): # metodo para agregar producto, incluyendo lo que nos pide el ejercicio.\n",
    "        if nombre in self.inventario:   # itero por el inventario,  si \"nombre\" in...\n",
    "            self.inventario [nombre][\"stock\"] = stock # si nombre esta en inventario, actualiza los valores \n",
    "            print( f\"ya existe {nombre}, solo lo actualizo\")\n",
    "        else:\n",
    "            self.inventario[nombre] = {\"precio\" :precio, \"stock\":stock}   # si el producto no esta en el inventario, lo añado como clave = nombre y valor= precio y stock\n",
    "            print (\"no existe, lo he insertado\")\n",
    "        \n",
    "# podria actualizar tb el precio incluyendo una linea de :  self.inventario[nombre][\"precio\"] = precio"
   ]
  },
  {
   "cell_type": "code",
   "execution_count": 150,
   "metadata": {},
   "outputs": [
    {
     "name": "stdout",
     "output_type": "stream",
     "text": [
      "no existe, lo he insertado\n",
      "{'camiseta': {'precio': 15.99, 'stock': 15}}\n"
     ]
    }
   ],
   "source": [
    "mi_tienda = TiendaOnline ()   #recordar poner siempre los () de tiendaonline ya que necesita el construcctor, sin eso da error.\n",
    "mi_tienda.agregar_modificar (\"camiseta\", 15.99, 15)\n",
    "print (mi_tienda.inventario)"
   ]
  },
  {
   "cell_type": "code",
   "execution_count": null,
   "metadata": {},
   "outputs": [
    {
     "name": "stdout",
     "output_type": "stream",
     "text": [
      "no existe, lo he insertado\n",
      "{'camiseta': {'precio': 15.99, 'stock': 15}, 'minifaldas': {'precio': 15.99, 'stock': 15}}\n"
     ]
    }
   ],
   "source": [
    "mi_tienda.agregar_modificar (\"minifaldas\", 15.99, 15)  # ponerlo sin mi_tienda = tiendaonline() pq cada vez igualamos la variable y no acumula\n",
    "print (mi_tienda.inventario)"
   ]
  },
  {
   "cell_type": "code",
   "execution_count": 152,
   "metadata": {},
   "outputs": [
    {
     "name": "stdout",
     "output_type": "stream",
     "text": [
      "no existe, lo he insertado\n",
      "{'camiseta': {'precio': 15.99, 'stock': 15}, 'minifaldas': {'precio': 15.99, 'stock': 15}, 'vestidos': {'precio': 34.99, 'stock': 20}}\n"
     ]
    }
   ],
   "source": [
    "mi_tienda.agregar_modificar (\"vestidos\", 34.99, 20)\n",
    "print (mi_tienda.inventario)"
   ]
  },
  {
   "cell_type": "code",
   "execution_count": 153,
   "metadata": {},
   "outputs": [
    {
     "name": "stdout",
     "output_type": "stream",
     "text": [
      "{'inventario': {'camiseta': {'precio': 15.99, 'stock': 15}, 'minifaldas': {'precio': 15.99, 'stock': 15}, 'vestidos': {'precio': 34.99, 'stock': 20}}, 'ventas_totales': 0.0}\n"
     ]
    }
   ],
   "source": [
    "print(mi_tienda.__dict__)"
   ]
  },
  {
   "cell_type": "markdown",
   "metadata": {},
   "source": [
    "3. `ver_inventario(self)`: Muestra el inventario de productos con sus detalles.\n",
    "\n",
    "   - Utiliza un bucle `for` para recorrer el inventario.\n",
    "   - Imprime los detalles (nombre, precio, cantidad) de cada producto.\n",
    "   - Debería verse:\n",
    "         \n",
    "        ```python\n",
    "            Nombre: Camisa, Precio: $20, Cantidad: 50\n",
    "            Nombre: Pantalón, Precio: $30, Cantidad: 30\n",
    "            Nombre: Zapatos, Precio: $50, Cantidad: 40\n",
    "            Nombre: Camisa, Precio: $20, Cantidad: 50\n",
    "        ```"
   ]
  },
  {
   "cell_type": "code",
   "execution_count": 154,
   "metadata": {},
   "outputs": [],
   "source": [
    "class TiendaOnline:\n",
    "    def __init__ (self):\n",
    "        self.inventario = {}\n",
    "        self.ventas_totales = 0.0  #pide q sea un float por lo tanto pongo 0.0\n",
    "    \n",
    "    def agregar_modificar(self, nombre, precio, stock): # metodo para agregar producto, incluyendo lo que nos pide el ejercicio.\n",
    "        if nombre in self.inventario:   # itero por el inventario,  si \"nombre\" in...\n",
    "            self.inventario [nombre][\"stock\"] = stock # si nombre esta en inventario, actualiza los valores\n",
    "            print( f\"ya existe {nombre}, solo lo actualizo\")\n",
    "        else:\n",
    "            self.inventario[nombre] = {\"precio\" :precio, \"stock\":stock}   # si el producto no esta en el inventario, lo añado como clave = nombre y valor= precio y stock\n",
    "            print (\"no existe, lo he insertado\")\n",
    "    \n",
    "    def ver_inventario(self):\n",
    "        for nombre, detalles_nombre in self.inventario.items():   # pongo detalles pq el dicc tiene dos valores (clave: nombre y valor: precio, stock)\n",
    "            print(f\"Nombre: {nombre}, Precio: {detalles_nombre['precio']}, Stock: {detalles_nombre['stock']}\")\n",
    "                                            \n",
    "# pongo detalles_nombre porque asi recibe los detalles de cada clave valor, no puedo poner precio y sotck por separado en el for."
   ]
  },
  {
   "cell_type": "code",
   "execution_count": null,
   "metadata": {},
   "outputs": [],
   "source": [
    "#ayuda Ismael\n",
    "def ver_inventario(self):\n",
    "        for nombre, detalles in self.inventario.items():  # Desempaquetamos en dos variables\n",
    "            print(f\"Nombre: {nombre}, Precio: {detalles['precio']}, Stock: {detalles['stock']}\")"
   ]
  },
  {
   "cell_type": "code",
   "execution_count": null,
   "metadata": {},
   "outputs": [],
   "source": [
    "#ayuda Ismael \n",
    "def buscar_producto(self, nombre):\n",
    "        if nombre in self.inventario:\n",
    "            detalles = self.inventario[nombre]\n",
    "            print(f\"Producto encontrado:\\nNombre: {nombre}, Precio: {detalles['precio']}, Stock: {detalles['stock']}\")\n",
    "        else:\n",
    "            print(\"No tenemos stock de ese producto.\")\n",
    "\n",
    "# lo se hacer con if, pero me lo piden con un bucle for no con un if, seguir trabajando con el for."
   ]
  },
  {
   "cell_type": "markdown",
   "metadata": {},
   "source": [
    "4. `buscar_producto(self, nombre)`: Busca un producto en el inventario por nombre y muestra sus detalles si se encuentra. Debe recibir el nombre del producto como parámetro.\n",
    "\n",
    "    - Utiliza un bucle `for` para recorrer el inventario.\n",
    "    - Compara los nombres de los productos con el nombre proporcionado.\n",
    "    - Si se encuentra el producto, imprime sus detalles.\n",
    "    - Debe mostrar:\n",
    "\n",
    "        ```python\n",
    "        Nombre: Camisa, Precio: $20, Cantidad: 40"
   ]
  },
  {
   "cell_type": "code",
   "execution_count": 157,
   "metadata": {},
   "outputs": [],
   "source": [
    "class TiendaOnline:\n",
    "    def __init__ (self):\n",
    "        self.inventario = {}\n",
    "        self.ventas_totales = 0.0  #pide q sea un float por lo tanto pongo 0.0\n",
    "    \n",
    "    def agregar_modificar(self, nombre, precio, stock): # metodo para agregar producto, incluyendo lo que nos pide el ejercicio.\n",
    "        if nombre in self.inventario:   # itero por el inventario,  si \"nombre\" in...\n",
    "            self.inventario [nombre][\"stock\"] = stock # si nombre esta en inventario, actualiza los valores\n",
    "            print( f\"ya existe {nombre}, solo lo actualizo\")\n",
    "        else:\n",
    "            self.inventario[nombre] = {\"precio\" :precio, \"stock\":stock}   # si el producto no esta en el inventario, lo añado como clave = nombre y valor= precio y stock\n",
    "            print (\"no existe, lo he insertado\")\n",
    "    \n",
    "    # 3. ver_inventario\n",
    "    \n",
    "    def ver_inventario(self):\n",
    "        for nombre, detalles_nombre in self.inventario.items():   # pongo detalles pq el dicc tiene dos valores (clave: nombre y valor: precio, stock)\n",
    "            print(f\"Nombre: {nombre}, Precio: {detalles_nombre['precio']}, Stock: {detalles_nombre['stock']}\")\n",
    "            \n",
    "    # 4. buscar producto:\n",
    "    def buscar_producto(self, nombre):\n",
    "        if nombre in self.inventario:\n",
    "            detalles = self.inventario[nombre] # le doy la variable detalles y le doy el valor del nombre que busco\n",
    "            print(f\"Producto encontrado:\\nNombre: {nombre}, Precio: {detalles['precio']}, Stock: {detalles['stock']}\")\n",
    "        else:\n",
    "            print(\"No tenemos stock de ese producto.\")"
   ]
  },
  {
   "cell_type": "code",
   "execution_count": 158,
   "metadata": {},
   "outputs": [
    {
     "name": "stdout",
     "output_type": "stream",
     "text": [
      "no existe, lo he insertado\n",
      "{'inventario': {'camiseta': {'precio': 15.99, 'stock': 15}}, 'ventas_totales': 0.0}\n",
      "no existe, lo he insertado\n",
      "{'inventario': {'camiseta': {'precio': 15.99, 'stock': 15}, 'minifaldas': {'precio': 15.99, 'stock': 15}}, 'ventas_totales': 0.0}\n",
      "no existe, lo he insertado\n",
      "{'inventario': {'camiseta': {'precio': 15.99, 'stock': 15}, 'minifaldas': {'precio': 15.99, 'stock': 15}, 'vestidos': {'precio': 34.99, 'stock': 20}}, 'ventas_totales': 0.0}\n",
      "Nombre: camiseta, Precio: 15.99, Stock: 15\n",
      "Nombre: minifaldas, Precio: 15.99, Stock: 15\n",
      "Nombre: vestidos, Precio: 34.99, Stock: 20\n",
      "Producto encontrado:\n",
      "Nombre: vestidos, Precio: 34.99, Stock: 20\n"
     ]
    }
   ],
   "source": [
    "# prueba de codigo:\n",
    "\n",
    "mi_tienda = TiendaOnline()\n",
    "mi_tienda.agregar_modificar (\"camiseta\", 15.99, 15)\n",
    "print(mi_tienda.__dict__)\n",
    "mi_tienda.agregar_modificar (\"minifaldas\", 15.99, 15)\n",
    "print(mi_tienda.__dict__)\n",
    "mi_tienda.agregar_modificar (\"vestidos\", 34.99, 20)\n",
    "print(mi_tienda.__dict__)\n",
    "mi_tienda.ver_inventario()\n",
    "mi_tienda.buscar_producto(\"vestidos\")"
   ]
  },
  {
   "cell_type": "markdown",
   "metadata": {},
   "source": [
    "5. `actualizar_stock(self, nombre, cantidad)`: Actualiza el stock de un producto en el inventario. Debe recibir el nombre del producto y la cantidad a agregar o quitar como parámetros.\n",
    "\n",
    "    - Utiliza un bucle `for` para recorrer el inventario.\n",
    "    - Busca el producto por nombre.\n",
    "    - Actualiza la cantidad según la entrada del usuario.\n",
    "    - Si el producto no esta en el inventario muestra un mensaje indicándolo. "
   ]
  },
  {
   "cell_type": "code",
   "execution_count": 159,
   "metadata": {},
   "outputs": [],
   "source": [
    "class TiendaOnline:\n",
    "    def __init__ (self):\n",
    "        self.inventario = {}\n",
    "        self.ventas_totales = 0.0  #pide q sea un float por lo tanto pongo 0.0\n",
    "    \n",
    "\n",
    "    # 2. agregar o modificar producto en stock.\n",
    "    def agregar_modificar(self, nombre, precio, stock): # metodo para agregar producto, incluyendo lo que nos pide el ejercicio.\n",
    "        if nombre in self.inventario:   # itero por el inventario,  si \"nombre\" in...\n",
    "            self.inventario [nombre][\"stock\"] = stock # si nombre esta en inventario, actualiza los valores\n",
    "            print( f\"ya existe {nombre}, solo lo actualizo\")\n",
    "        else:\n",
    "            self.inventario[nombre] = {\"precio\" :precio, \"stock\":stock}   # si el producto no esta en el inventario, lo añado como clave = nombre y valor= precio y stock\n",
    "            print (\"no existe, lo he insertado\")\n",
    "\n",
    "    \n",
    "    # 3. ver_inventario con detalle de producto, precio, stock.\n",
    "    \n",
    "    def ver_inventario(self):\n",
    "        for nombre, detalles_nombre in self.inventario.items():   # pongo detalles pq el dicc tiene dos valores (clave: nombre y valor: precio, stock)\n",
    "            print(f\"Nombre: {nombre}, Precio: {detalles_nombre['precio']}, Stock: {detalles_nombre['stock']}\")\n",
    "\n",
    "\n",
    "    # 4. buscar producto concreto en inventario:\n",
    "    def buscar_producto(self, nombre):\n",
    "        if nombre in self.inventario:\n",
    "            detalles = self.inventario[nombre] # le doy la variable detalles y le doy el valor del nombre que busco\n",
    "            print(f\"Producto encontrado:\\nNombre: {nombre}, Precio: {detalles['precio']}, Stock: {detalles['stock']}\")\n",
    "        else:\n",
    "            print(\"No tenemos stock de ese producto.\")\n",
    "    \n",
    "    \n",
    "    #5. actualizar stock.\n",
    "    def actualizar_stock(self, nombre, cantidad):  # solo ponemos nombre y cantidad porque solo quiero actualizar la cantidad de un producto\n",
    "        for producto, detalles in self.inventario.items():\n",
    "            if producto == nombre: #busco el producto por su nombre\n",
    "                detalles [\"stock\"] += cantidad  # sumo la cantidad, pongo stock porque no quiero el precio, solo actualizo el stock.\n",
    "                print (f\"el stock de {nombre} se ha actualizado correctamente\")\n",
    "            \n",
    "            else:\n",
    "                print (\"el producto no esta en el inventario\")\n",
    "        \n",
    "          ## preguntar pq printea tb que no esta en el inventario,, es decir, modifica el stock del producto y tb pon que no esta.\n",
    "            \n",
    "    "
   ]
  },
  {
   "cell_type": "code",
   "execution_count": 160,
   "metadata": {},
   "outputs": [
    {
     "name": "stdout",
     "output_type": "stream",
     "text": [
      "---------------------\n",
      "no existe, lo he insertado\n",
      "{'inventario': {'camiseta': {'precio': 15.99, 'stock': 15}}, 'ventas_totales': 0.0}\n",
      "----------------------\n",
      "no existe, lo he insertado\n",
      "{'inventario': {'camiseta': {'precio': 15.99, 'stock': 15}, 'minifaldas': {'precio': 15.99, 'stock': 15}}, 'ventas_totales': 0.0}\n",
      "----------------------\n",
      "no existe, lo he insertado\n",
      "{'inventario': {'camiseta': {'precio': 15.99, 'stock': 15}, 'minifaldas': {'precio': 15.99, 'stock': 15}, 'vestidos': {'precio': 34.99, 'stock': 20}}, 'ventas_totales': 0.0}\n",
      "------------------------\n",
      "Nombre: camiseta, Precio: 15.99, Stock: 15\n",
      "Nombre: minifaldas, Precio: 15.99, Stock: 15\n",
      "Nombre: vestidos, Precio: 34.99, Stock: 20\n",
      "------------------------\n",
      "Producto encontrado:\n",
      "Nombre: vestidos, Precio: 34.99, Stock: 20\n",
      "--------------------------\n",
      "el stock de camiseta se ha actualizado correctamente\n",
      "el producto no esta en el inventario\n",
      "el producto no esta en el inventario\n"
     ]
    }
   ],
   "source": [
    "# prueba de codigo:\n",
    "\n",
    "mi_tienda = TiendaOnline()\n",
    "print(\"---------------------\") \n",
    "mi_tienda.agregar_modificar (\"camiseta\", 15.99, 15)\n",
    "print(mi_tienda.__dict__)\n",
    "print(\"----------------------\")\n",
    "mi_tienda.agregar_modificar (\"minifaldas\", 15.99, 15)\n",
    "print(mi_tienda.__dict__)\n",
    "print(\"----------------------\")\n",
    "mi_tienda.agregar_modificar (\"vestidos\", 34.99, 20)\n",
    "print(mi_tienda.__dict__)\n",
    "print(\"------------------------\")\n",
    "mi_tienda.ver_inventario()\n",
    "print(\"------------------------\")\n",
    "mi_tienda.buscar_producto(\"vestidos\")\n",
    "print(\"--------------------------\")\n",
    "mi_tienda.actualizar_stock(\"camiseta\",20)"
   ]
  },
  {
   "cell_type": "markdown",
   "metadata": {},
   "source": [
    " 6. `eliminar_producto(self, nombre)`: Elimina un producto del inventario por nombre. Debe recibir el nombre del producto como parámetro.\n",
    "\n",
    "    - Utiliza un bucle `for` para recorrer el inventario.\n",
    "    - Busca el producto por nombre.\n",
    "    - Elimina el producto del inventario si existe.\n",
    "    - Si el producto no esta en el inventario muestra un mensaje indicándolo."
   ]
  },
  {
   "cell_type": "code",
   "execution_count": null,
   "metadata": {},
   "outputs": [],
   "source": [
    "class TiendaOnline:\n",
    "    def __init__ (self):\n",
    "        self.inventario = {}\n",
    "        self.ventas_totales = 0.0  #pide q sea un float por lo tanto pongo 0.0\n",
    "    \n",
    "\n",
    "    # 2. agregar o modificar producto en stock.\n",
    "    def agregar_modificar(self, nombre, precio, stock): # metodo para agregar producto, incluyendo lo que nos pide el ejercicio.\n",
    "        if nombre in self.inventario:   # itero por el inventario,  si \"nombre\" in...\n",
    "            self.inventario [nombre][\"stock\"] = stock # si nombre esta en inventario, actualiza los valores\n",
    "            print( f\"ya existe {nombre}, solo lo actualizo\")\n",
    "        else:\n",
    "            self.inventario[nombre] = {\"precio\" :precio, \"stock\":stock}   # si el producto no esta en el inventario, lo añado como clave = nombre y valor= precio y stock\n",
    "            print (\"no existe, lo he insertado\")\n",
    "\n",
    "    \n",
    "    # 3. ver_inventario con detalle de producto, precio, stock.\n",
    "    \n",
    "    def ver_inventario(self):\n",
    "        for nombre, detalles_nombre in self.inventario.items():   # pongo detalles pq el dicc tiene dos valores (clave: nombre y valor: precio, stock)\n",
    "            print(f\"Nombre: {nombre}, Precio: {detalles_nombre['precio']}, Stock: {detalles_nombre['stock']}\")\n",
    "\n",
    "\n",
    "    # 4. buscar producto concreto en inventario:\n",
    "    def buscar_producto(self, nombre):\n",
    "        if nombre in self.inventario:\n",
    "            detalles = self.inventario[nombre] # le doy la variable detalles y le doy el valor del nombre que busco\n",
    "            print(f\"Producto encontrado:\\nNombre: {nombre}, Precio: {detalles['precio']}, Stock: {detalles['stock']}\")\n",
    "        else:\n",
    "            print(\"No tenemos stock de ese producto.\")\n",
    "    \n",
    "            #lo he hecho con if pero lo piden con for:\n",
    "    \n",
    "    \n",
    "    \n",
    "    #5. actualizar stock.\n",
    "    def actualizar_stock(self, nombre, cantidad):  # solo ponemos nombre y cantidad porque solo quiero actualizar la cantidad de un producto\n",
    "        for producto, detalles in self.inventario.items():\n",
    "            if producto == nombre: #busco el producto por su nombre\n",
    "                detalles [\"stock\"] += cantidad  # sumo la cantidad, pongo stock porque no quiero el precio, solo actualizo el stock.\n",
    "                print (f\"el stock de {nombre} se ha actualizado correctamente\")\n",
    "            \n",
    "            else:\n",
    "                print (\"el producto no esta en el inventario\")\n",
    "        \n",
    "          ## preguntar pq printea tb que no esta en el inventario,, es decir, modifica el stock del producto y tb pon que no esta.\n",
    "    \n",
    "    # 6. eliminar producto del stock.\n",
    "    def eliminar_producto(self, nombre):\n",
    "        for producto in self.inventario.items():\n",
    "            \n",
    "            "
   ]
  },
  {
   "cell_type": "code",
   "execution_count": null,
   "metadata": {},
   "outputs": [
    {
     "name": "stdout",
     "output_type": "stream",
     "text": [
      "{'vestidos': (34.99, 20), 'pantalones': (24.99, 12)}\n"
     ]
    }
   ],
   "source": [
    "inventario16 = {\"camiseta\": (15.99, 15), \"vestidos\": (34.99, 20), \"pantalones\":(24.99, 12)}\n",
    "\n",
    "for nombre in list(inventario16.keys()): #lo convierto a lista porque sino me da error\n",
    "    if nombre == \"camiseta\":\n",
    "        del inventario16[nombre]  # asi elimino camiseta\n",
    "\n",
    "print(inventario16)\n",
    "\n",
    "# pero como elimino un elemento aleatorio, con un input? "
   ]
  }
 ],
 "metadata": {
  "kernelspec": {
   "display_name": "base",
   "language": "python",
   "name": "python3"
  },
  "language_info": {
   "codemirror_mode": {
    "name": "ipython",
    "version": 3
   },
   "file_extension": ".py",
   "mimetype": "text/x-python",
   "name": "python",
   "nbconvert_exporter": "python",
   "pygments_lexer": "ipython3",
   "version": "3.12.7"
  }
 },
 "nbformat": 4,
 "nbformat_minor": 2
}
