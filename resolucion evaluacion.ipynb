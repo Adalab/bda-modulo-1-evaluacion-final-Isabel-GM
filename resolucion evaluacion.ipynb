{
 "cells": [
  {
   "cell_type": "markdown",
   "metadata": {},
   "source": [
    "Evaluación Final Módulo 1 Data Analytics:\n",
    "\n",
    "1- A lo largo de esta evaluación tendrás que crear una clase llamada `TiendaOnline` que cumpla los siguientes requisitos:\n",
    "\n",
    " - La clase `TiendaOnline` debe tener los siguientes atributos:\n",
    "\n",
    "    1. `inventario` (lista de diccionarios): Un atributo para almacenar los productos en el inventario. Cada producto debe ser representado como un diccionario con las siguientes claves: `'nombre'`, `'precio'`, y `'cantidad'`. Al principio deberá ser una lista vacía. Ejemplo de como debería ser:\n",
    "\n",
    "        ```python\n",
    "            [{'nombre': 'Camisa', 'precio': 20, 'cantidad': 40},\n",
    "            {'nombre': 'Pantalón', 'precio': 30, 'cantidad': 30}]\n",
    "        ```\n",
    "\n",
    "    1. `ventas_totales` (float): Un atributo para llevar un registro de las ventas totales de la tienda. Inicializado con valor 0. "
   ]
  },
  {
   "cell_type": "code",
   "execution_count": 116,
   "metadata": {},
   "outputs": [],
   "source": [
    "class TiendaOnline:    # creo la clase tienda online\n",
    "    pass"
   ]
  },
  {
   "cell_type": "code",
   "execution_count": 117,
   "metadata": {},
   "outputs": [],
   "source": [
    "class TiendaOnline:\n",
    "    def __init__(self):\n",
    "        self.inventario = {}     # creo el diccionario vacio \n",
    "        self.ventas_totales = 0.0  #pide q sea un float por lo tanto pongo 0.0\n",
    "    "
   ]
  },
  {
   "cell_type": "markdown",
   "metadata": {},
   "source": [
    "2- La clase `TiendaOnline` debe tener los siguientes métodos:\n",
    "\n",
    "1. `agregar_producto(self, nombre, precio, cantidad)`: Este método agrega un producto al inventario o actualiza su cantidad si ya existe. Debe recibir el nombre, precio y cantidad del producto como parámetros. \n",
    "\n",
    "    - Itera a través del inventario y compara los nombres de los productos con el nombre proporcionado.\n",
    "    - Si el producto ya existe, actualiza la cantidad.\n",
    "    - Si no existe, agrega un nuevo producto al inventario.\n"
   ]
  },
  {
   "cell_type": "code",
   "execution_count": 118,
   "metadata": {},
   "outputs": [],
   "source": [
    "class TiendaOnline:\n",
    "    def __init__ (self):\n",
    "        self.inventario = {}  # creo el diccionario vacio \n",
    "        self.ventas_totales = 0.0  #pide q sea un float por lo tanto pongo 0.0\n",
    "    \n",
    "    def agregar_producto(self, nombre, precio, stock): # metodo para agregar producto, incluyendo lo que nos pide el ejercicio.\n",
    "        if nombre in self.inventario:   # quiero q si el producto que le digo esta en el inventario me diga q ya existe, por eso si \"nombre\" in...\n",
    "            print( \"ya existe\")\n",
    "        else:\n",
    "            self.inventario[nombre] = [precio,stock]   # si el producto no esta en el inventario, lo añado como clave = nombre y valor= precio y stock\n",
    "            print (\"no existe, lo he insertado\")"
   ]
  },
  {
   "cell_type": "code",
   "execution_count": 119,
   "metadata": {},
   "outputs": [
    {
     "name": "stdout",
     "output_type": "stream",
     "text": [
      "no existe, lo he insertado\n",
      "{'camiseta': [19.99, 15]}\n"
     ]
    }
   ],
   "source": [
    "mi_tienda = TiendaOnline ()   #recordar poner siempre los () de tiendaonline ya que necesita el construcctor, sin eso da error.\n",
    "mi_tienda.agregar_producto (\"camiseta\", 19.99, 15)\n",
    "print (mi_tienda.inventario)"
   ]
  },
  {
   "cell_type": "code",
   "execution_count": 120,
   "metadata": {},
   "outputs": [],
   "source": [
    "class TiendaOnline:\n",
    "    def __init__ (self):\n",
    "        self.inventario = {}\n",
    "        self.ventas_totales = 0.0  #pide q sea un float por lo tanto pongo 0.0\n",
    "    \n",
    "    def agregar_modificar(self, nombre, precio, stock): # metodo para agregar producto, incluyendo lo que nos pide el ejercicio.\n",
    "        if nombre in self.inventario:   # itero por el inventario,  si \"nombre\" in...\n",
    "            self.inventario [nombre][\"stock\"] = stock # si nombre esta en inventario, actualiza los valores \n",
    "            print( f\"ya existe {nombre}, solo lo actualizo\")\n",
    "        else:\n",
    "            self.inventario[nombre] = {\"precio\" :precio, \"stock\":stock}   # si el producto no esta en el inventario, lo añado como clave = nombre y valor= precio y stock\n",
    "            print (\"no existe, lo he insertado\")\n",
    "        \n",
    "# podria actualizar tb el precio incluyendo una linea de :  self.inventario[nombre][\"precio\"] = precio"
   ]
  },
  {
   "cell_type": "code",
   "execution_count": 121,
   "metadata": {},
   "outputs": [
    {
     "name": "stdout",
     "output_type": "stream",
     "text": [
      "no existe, lo he insertado\n",
      "{'camiseta': {'precio': 15.99, 'stock': 15}}\n"
     ]
    }
   ],
   "source": [
    "mi_tienda = TiendaOnline ()   #recordar poner siempre los () de tiendaonline ya que necesita el construcctor, sin eso da error.\n",
    "mi_tienda.agregar_modificar (\"camiseta\", 15.99, 15)\n",
    "print (mi_tienda.inventario)"
   ]
  },
  {
   "cell_type": "code",
   "execution_count": 122,
   "metadata": {},
   "outputs": [
    {
     "name": "stdout",
     "output_type": "stream",
     "text": [
      "no existe, lo he insertado\n",
      "{'camiseta': {'precio': 15.99, 'stock': 15}, 'minifaldas': {'precio': 15.99, 'stock': 15}}\n"
     ]
    }
   ],
   "source": [
    "mi_tienda.agregar_modificar (\"minifaldas\", 15.99, 15)  # ponerlo sin mi_tienda = tiendaonline() pq cada vez igualamos la variable y no acumula\n",
    "print (mi_tienda.inventario)"
   ]
  },
  {
   "cell_type": "code",
   "execution_count": 123,
   "metadata": {},
   "outputs": [
    {
     "name": "stdout",
     "output_type": "stream",
     "text": [
      "no existe, lo he insertado\n",
      "{'camiseta': {'precio': 15.99, 'stock': 15}, 'minifaldas': {'precio': 15.99, 'stock': 15}, 'vestidos': {'precio': 34.99, 'stock': 20}}\n"
     ]
    }
   ],
   "source": [
    "mi_tienda.agregar_modificar (\"vestidos\", 34.99, 20)\n",
    "print (mi_tienda.inventario)"
   ]
  },
  {
   "cell_type": "code",
   "execution_count": 124,
   "metadata": {},
   "outputs": [
    {
     "name": "stdout",
     "output_type": "stream",
     "text": [
      "{'inventario': {'camiseta': {'precio': 15.99, 'stock': 15}, 'minifaldas': {'precio': 15.99, 'stock': 15}, 'vestidos': {'precio': 34.99, 'stock': 20}}, 'ventas_totales': 0.0}\n"
     ]
    }
   ],
   "source": [
    "print(mi_tienda.__dict__)"
   ]
  },
  {
   "cell_type": "markdown",
   "metadata": {},
   "source": [
    "3. `ver_inventario(self)`: Muestra el inventario de productos con sus detalles.\n",
    "\n",
    "   - Utiliza un bucle `for` para recorrer el inventario.\n",
    "   - Imprime los detalles (nombre, precio, cantidad) de cada producto.\n",
    "   - Debería verse:\n",
    "         \n",
    "        ```python\n",
    "            Nombre: Camisa, Precio: $20, Cantidad: 50\n",
    "            Nombre: Pantalón, Precio: $30, Cantidad: 30\n",
    "            Nombre: Zapatos, Precio: $50, Cantidad: 40\n",
    "            Nombre: Camisa, Precio: $20, Cantidad: 50\n",
    "        ```"
   ]
  },
  {
   "cell_type": "code",
   "execution_count": 125,
   "metadata": {},
   "outputs": [],
   "source": [
    "class TiendaOnline:\n",
    "    def __init__ (self):\n",
    "        self.inventario = {}\n",
    "        self.ventas_totales = 0.0  #pide q sea un float por lo tanto pongo 0.0\n",
    "    \n",
    "    def agregar_modificar(self, nombre, precio, stock): # metodo para agregar producto, incluyendo lo que nos pide el ejercicio.\n",
    "        if nombre in self.inventario:   # itero por el inventario,  si \"nombre\" in...\n",
    "            self.inventario [nombre][\"stock\"] = stock # si nombre esta en inventario, actualiza los valores\n",
    "            print( f\"ya existe {nombre}, solo lo actualizo\")\n",
    "        else:\n",
    "            self.inventario[nombre] = {\"precio\" :precio, \"stock\":stock}   # si el producto no esta en el inventario, lo añado como clave = nombre y valor= precio y stock\n",
    "            print (\"no existe, lo he insertado\")\n",
    "    \n",
    "    def ver_inventario(self):\n",
    "        for nombre, detalles_nombre in self.inventario.items():   # pongo detalles pq el dicc tiene dos valores (clave: nombre y valor: precio, stock)\n",
    "            print(f\"Nombre: {nombre}, Precio: {detalles_nombre['precio']}, Stock: {detalles_nombre['stock']}\")\n",
    "                                            \n",
    "# pongo detalles_nombre porque asi recibe los detalles de cada clave valor, no puedo poner precio y sotck por separado en el for."
   ]
  },
  {
   "cell_type": "code",
   "execution_count": 126,
   "metadata": {},
   "outputs": [],
   "source": [
    "#ayuda Ismael\n",
    "def ver_inventario(self):\n",
    "        for nombre, detalles in self.inventario.items():  # Desempaquetamos en dos variables\n",
    "            print(f\"Nombre: {nombre}, Precio: {detalles['precio']}, Stock: {detalles['stock']}\")"
   ]
  },
  {
   "cell_type": "code",
   "execution_count": 127,
   "metadata": {},
   "outputs": [],
   "source": [
    "#ayuda Ismael \n",
    "def buscar_producto(self, nombre):\n",
    "        if nombre in self.inventario:\n",
    "            detalles = self.inventario[nombre]\n",
    "            print(f\"Producto encontrado:\\nNombre: {nombre}, Precio: {detalles['precio']}, Stock: {detalles['stock']}\")\n",
    "        else:\n",
    "            print(\"No tenemos stock de ese producto.\")\n",
    "\n",
    "# lo se hacer con if, pero me lo piden con un bucle for no con un if, seguir trabajando con el for."
   ]
  },
  {
   "cell_type": "markdown",
   "metadata": {},
   "source": [
    "4. `buscar_producto(self, nombre)`: Busca un producto en el inventario por nombre y muestra sus detalles si se encuentra. Debe recibir el nombre del producto como parámetro.\n",
    "\n",
    "    - Utiliza un bucle `for` para recorrer el inventario.\n",
    "    - Compara los nombres de los productos con el nombre proporcionado.\n",
    "    - Si se encuentra el producto, imprime sus detalles.\n",
    "    - Debe mostrar:\n",
    "\n",
    "        ```python\n",
    "        Nombre: Camisa, Precio: $20, Cantidad: 40"
   ]
  },
  {
   "cell_type": "code",
   "execution_count": 128,
   "metadata": {},
   "outputs": [],
   "source": [
    "class TiendaOnline:\n",
    "    def __init__ (self):\n",
    "        self.inventario = {}\n",
    "        self.ventas_totales = 0.0  #pide q sea un float por lo tanto pongo 0.0\n",
    "    \n",
    "    def agregar_modificar(self, nombre, precio, stock): # metodo para agregar producto, incluyendo lo que nos pide el ejercicio.\n",
    "        if nombre in self.inventario:   # itero por el inventario,  si \"nombre\" in...\n",
    "            self.inventario [nombre][\"stock\"] = stock # si nombre esta en inventario, actualiza los valores\n",
    "            print( f\"ya existe {nombre}, solo lo actualizo\")\n",
    "        else:\n",
    "            self.inventario[nombre] = {\"precio\" :precio, \"stock\":stock}   # si el producto no esta en el inventario, lo añado como clave = nombre y valor= precio y stock\n",
    "            print (\"no existe, lo he insertado\")\n",
    "    \n",
    "    # 3. ver_inventario\n",
    "    \n",
    "    def ver_inventario(self):\n",
    "        for nombre, detalles_nombre in self.inventario.items():   # pongo detalles pq el dicc tiene dos valores (clave: nombre y valor: precio, stock)\n",
    "            print(f\"Nombre: {nombre}, Precio: {detalles_nombre['precio']}, Stock: {detalles_nombre['stock']}\")\n",
    "            \n",
    "    # 4. buscar producto:\n",
    "    def buscar_producto(self, nombre):\n",
    "        if nombre in self.inventario:\n",
    "            detalles = self.inventario[nombre] # le doy la variable detalles y le doy el valor del nombre que busco\n",
    "            print(f\"Producto encontrado:\\nNombre: {nombre}, Precio: {detalles['precio']}, Stock: {detalles['stock']}\")\n",
    "        else:\n",
    "            print(\"No tenemos stock de ese producto.\")"
   ]
  },
  {
   "cell_type": "code",
   "execution_count": 129,
   "metadata": {},
   "outputs": [
    {
     "name": "stdout",
     "output_type": "stream",
     "text": [
      "no existe, lo he insertado\n",
      "{'inventario': {'camiseta': {'precio': 15.99, 'stock': 15}}, 'ventas_totales': 0.0}\n",
      "no existe, lo he insertado\n",
      "{'inventario': {'camiseta': {'precio': 15.99, 'stock': 15}, 'minifaldas': {'precio': 15.99, 'stock': 15}}, 'ventas_totales': 0.0}\n",
      "no existe, lo he insertado\n",
      "{'inventario': {'camiseta': {'precio': 15.99, 'stock': 15}, 'minifaldas': {'precio': 15.99, 'stock': 15}, 'vestidos': {'precio': 34.99, 'stock': 20}}, 'ventas_totales': 0.0}\n",
      "Nombre: camiseta, Precio: 15.99, Stock: 15\n",
      "Nombre: minifaldas, Precio: 15.99, Stock: 15\n",
      "Nombre: vestidos, Precio: 34.99, Stock: 20\n",
      "Producto encontrado:\n",
      "Nombre: vestidos, Precio: 34.99, Stock: 20\n"
     ]
    }
   ],
   "source": [
    "# prueba de codigo:\n",
    "\n",
    "mi_tienda = TiendaOnline()\n",
    "mi_tienda.agregar_modificar (\"camiseta\", 15.99, 15)\n",
    "print(mi_tienda.__dict__)\n",
    "mi_tienda.agregar_modificar (\"minifaldas\", 15.99, 15)\n",
    "print(mi_tienda.__dict__)\n",
    "mi_tienda.agregar_modificar (\"vestidos\", 34.99, 20)\n",
    "print(mi_tienda.__dict__)\n",
    "mi_tienda.ver_inventario()\n",
    "mi_tienda.buscar_producto(\"vestidos\")"
   ]
  },
  {
   "cell_type": "markdown",
   "metadata": {},
   "source": [
    "5. `actualizar_stock(self, nombre, cantidad)`: Actualiza el stock de un producto en el inventario. Debe recibir el nombre del producto y la cantidad a agregar o quitar como parámetros.\n",
    "\n",
    "    - Utiliza un bucle `for` para recorrer el inventario.\n",
    "    - Busca el producto por nombre.\n",
    "    - Actualiza la cantidad según la entrada del usuario.\n",
    "    - Si el producto no esta en el inventario muestra un mensaje indicándolo. "
   ]
  },
  {
   "cell_type": "code",
   "execution_count": 130,
   "metadata": {},
   "outputs": [],
   "source": [
    "class TiendaOnline:\n",
    "    def __init__ (self):\n",
    "        self.inventario = {}\n",
    "        self.ventas_totales = 0.0  #pide q sea un float por lo tanto pongo 0.0\n",
    "    \n",
    "\n",
    "    # 2. agregar o modificar producto en stock.\n",
    "    def agregar_modificar(self, nombre, precio, stock): # metodo para agregar producto, incluyendo lo que nos pide el ejercicio.\n",
    "        if nombre in self.inventario:   # itero por el inventario,  si \"nombre\" in...\n",
    "            self.inventario [nombre][\"stock\"] = stock # si nombre esta en inventario, actualiza los valores\n",
    "            print( f\"ya existe {nombre}, solo lo actualizo\")\n",
    "        else:\n",
    "            self.inventario[nombre] = {\"precio\" :precio, \"stock\":stock}   # si el producto no esta en el inventario, lo añado como clave = nombre y valor= precio y stock\n",
    "            print (\"no existe, lo he insertado\")\n",
    "\n",
    "    \n",
    "    # 3. ver_inventario con detalle de producto, precio, stock.\n",
    "    \n",
    "    def ver_inventario(self):\n",
    "        for nombre, detalles_nombre in self.inventario.items():   # pongo detalles pq el dicc tiene dos valores (clave: nombre y valor: precio, stock)\n",
    "            print(f\"Nombre: {nombre}, Precio: {detalles_nombre['precio']}, Stock: {detalles_nombre['stock']}\")\n",
    "\n",
    "\n",
    "    # 4. buscar producto concreto en inventario:\n",
    "    def buscar_producto(self, nombre):\n",
    "        if nombre in self.inventario:\n",
    "            detalles = self.inventario[nombre] # le doy la variable detalles y le doy el valor del nombre que busco\n",
    "            print(f\"Producto encontrado:\\nNombre: {nombre}, Precio: {detalles['precio']}, Stock: {detalles['stock']}\")\n",
    "        else:\n",
    "            print(\"No tenemos stock de ese producto.\")\n",
    "    \n",
    "    \n",
    "    #5. actualizar stock.\n",
    "    def actualizar_stock(self, nombre, cantidad):  # solo ponemos nombre y cantidad porque solo quiero actualizar la cantidad de un producto\n",
    "        for producto, detalles in self.inventario.items():\n",
    "            if producto == nombre: #busco el producto por su nombre\n",
    "                detalles [\"stock\"] += cantidad  # sumo la cantidad, pongo stock porque no quiero el precio, solo actualizo el stock.\n",
    "                print (f\"el stock de {nombre} se ha actualizado correctamente\")\n",
    "            \n",
    "            else:\n",
    "                print (\"el producto no esta en el inventario\")\n",
    "        \n",
    "          ## preguntar pq printea tb que no esta en el inventario,, es decir, modifica el stock del producto y tb pon que no esta.\n",
    "            \n",
    "    "
   ]
  },
  {
   "cell_type": "code",
   "execution_count": 131,
   "metadata": {},
   "outputs": [
    {
     "name": "stdout",
     "output_type": "stream",
     "text": [
      "---------------------\n",
      "no existe, lo he insertado\n",
      "{'inventario': {'camiseta': {'precio': 15.99, 'stock': 15}}, 'ventas_totales': 0.0}\n",
      "----------------------\n",
      "no existe, lo he insertado\n",
      "{'inventario': {'camiseta': {'precio': 15.99, 'stock': 15}, 'minifaldas': {'precio': 15.99, 'stock': 15}}, 'ventas_totales': 0.0}\n",
      "----------------------\n",
      "no existe, lo he insertado\n",
      "{'inventario': {'camiseta': {'precio': 15.99, 'stock': 15}, 'minifaldas': {'precio': 15.99, 'stock': 15}, 'vestidos': {'precio': 34.99, 'stock': 20}}, 'ventas_totales': 0.0}\n",
      "------------------------\n",
      "Nombre: camiseta, Precio: 15.99, Stock: 15\n",
      "Nombre: minifaldas, Precio: 15.99, Stock: 15\n",
      "Nombre: vestidos, Precio: 34.99, Stock: 20\n",
      "------------------------\n",
      "Producto encontrado:\n",
      "Nombre: vestidos, Precio: 34.99, Stock: 20\n",
      "--------------------------\n",
      "el stock de camiseta se ha actualizado correctamente\n",
      "el producto no esta en el inventario\n",
      "el producto no esta en el inventario\n"
     ]
    }
   ],
   "source": [
    "# prueba de codigo:\n",
    "\n",
    "mi_tienda = TiendaOnline()\n",
    "print(\"---------------------\") \n",
    "mi_tienda.agregar_modificar (\"camiseta\", 15.99, 15)\n",
    "print(mi_tienda.__dict__)\n",
    "print(\"----------------------\")\n",
    "mi_tienda.agregar_modificar (\"minifaldas\", 15.99, 15)\n",
    "print(mi_tienda.__dict__)\n",
    "print(\"----------------------\")\n",
    "mi_tienda.agregar_modificar (\"vestidos\", 34.99, 20)\n",
    "print(mi_tienda.__dict__)\n",
    "print(\"------------------------\")\n",
    "mi_tienda.ver_inventario()\n",
    "print(\"------------------------\")\n",
    "mi_tienda.buscar_producto(\"vestidos\")\n",
    "print(\"--------------------------\")\n",
    "mi_tienda.actualizar_stock(\"camiseta\",20)"
   ]
  },
  {
   "cell_type": "markdown",
   "metadata": {},
   "source": [
    " 6. `eliminar_producto(self, nombre)`: Elimina un producto del inventario por nombre. Debe recibir el nombre del producto como parámetro.\n",
    "\n",
    "    - Utiliza un bucle `for` para recorrer el inventario.\n",
    "    - Busca el producto por nombre.\n",
    "    - Elimina el producto del inventario si existe.\n",
    "    - Si el producto no esta en el inventario muestra un mensaje indicándolo."
   ]
  },
  {
   "cell_type": "code",
   "execution_count": 132,
   "metadata": {},
   "outputs": [],
   "source": [
    "class TiendaOnline:\n",
    "    def __init__ (self):\n",
    "        self.inventario = {}\n",
    "        self.ventas_totales = 0.0  #pide q sea un float por lo tanto pongo 0.0\n",
    "    \n",
    "\n",
    "    # 2. agregar o modificar producto en stock.\n",
    "    def agregar_modificar(self, nombre, precio, stock): # metodo para agregar producto, incluyendo lo que nos pide el ejercicio.\n",
    "        if nombre in self.inventario:   # itero por el inventario,  si \"nombre\" in...\n",
    "            self.inventario [nombre][\"stock\"] = stock # si nombre esta en inventario, actualiza los valores\n",
    "            print( f\"ya existe {nombre}, solo lo actualizo\")\n",
    "        else:\n",
    "            self.inventario[nombre] = {\"precio\" :precio, \"stock\":stock}   # si el producto no esta en el inventario, lo añado como clave = nombre y valor= precio y stock\n",
    "            print (\"no existe, lo he insertado\")\n",
    "\n",
    "    \n",
    "    # 3. ver_inventario con detalle de producto, precio, stock.\n",
    "    \n",
    "    def ver_inventario(self):\n",
    "        for nombre, detalles_nombre in self.inventario.items():   # pongo detalles pq el dicc tiene dos valores (clave: nombre y valor: precio, stock)\n",
    "            print(f\"Nombre: {nombre}, Precio: {detalles_nombre['precio']}, Stock: {detalles_nombre['stock']}\")\n",
    "\n",
    "\n",
    "    # 4. buscar producto concreto en inventario:\n",
    "    def buscar_producto(self, nombre):\n",
    "        if nombre in self.inventario:\n",
    "            detalles = self.inventario[nombre] # le doy la variable detalles y le doy el valor del nombre que busco\n",
    "            print(f\"Producto encontrado: Nombre: {nombre}, Precio: {detalles['precio']}, Stock: {detalles['stock']}\")\n",
    "        else:\n",
    "            print(\"No tenemos stock de ese producto.\")\n",
    "    \n",
    "            #lo he hecho con if pero lo piden con for:\n",
    "    \n",
    "    \n",
    "    \n",
    "    #5. actualizar stock.\n",
    "    def actualizar_stock(self, nombre, cantidad):  # solo ponemos nombre y cantidad porque solo quiero actualizar la cantidad de un producto\n",
    "        for producto, detalles in self.inventario.items():\n",
    "            if producto == nombre: #busco el producto por su nombre\n",
    "                detalles [\"stock\"] += cantidad  # sumo la cantidad, pongo stock porque no quiero el precio, solo actualizo el stock.\n",
    "                print (f\"el stock de {nombre} se ha actualizado correctamente\")\n",
    "            \n",
    "            else:\n",
    "                print (\"el producto no esta en el inventario\")\n",
    "        \n",
    "          ## preguntar pq printea tb que no esta en el inventario,, es decir, modifica el stock del producto y tb pon que no esta.\n",
    "    \n",
    "    # 6. eliminar producto del stock.\n",
    "    \n",
    "    def eliminar_producto(self, nombre):\n",
    "        for producto in list(self.inventario.keys()):\n",
    "            if nombre == producto:\n",
    "                del self.inventario [nombre]\n",
    "                \n",
    "        else:\n",
    "            print(f\"el producto {nombre} no existe en {self.inventario}\")\n",
    "            \n",
    "            "
   ]
  },
  {
   "cell_type": "code",
   "execution_count": 133,
   "metadata": {},
   "outputs": [
    {
     "name": "stdout",
     "output_type": "stream",
     "text": [
      "{'vestidos': (34.99, 20), 'pantalones': (24.99, 12)}\n"
     ]
    }
   ],
   "source": [
    "# pruebas fuera de la clase:\n",
    "\n",
    "inventario16 = {\"camiseta\": (15.99, 15), \"vestidos\": (34.99, 20), \"pantalones\":(24.99, 12)}\n",
    "\n",
    "for nombre in list(inventario16.keys()): #lo convierto a lista porque sino me da error\n",
    "    if nombre == \"camiseta\":\n",
    "        del inventario16[nombre]  # asi elimino camiseta\n",
    "\n",
    "print(inventario16)\n",
    "\n",
    "# pero como elimino un elemento concreto?"
   ]
  },
  {
   "cell_type": "code",
   "execution_count": 134,
   "metadata": {},
   "outputs": [
    {
     "name": "stdout",
     "output_type": "stream",
     "text": [
      "{'vestidos': (34.99, 20), 'pantalones': (24.99, 12)}\n"
     ]
    }
   ],
   "source": [
    "# pruebas fuera de la clase:\n",
    "\n",
    "inventario16 = {\"camiseta\": (15.99, 15), \"vestidos\": (34.99, 20), \"pantalones\":(24.99, 12)}\n",
    "\n",
    "for nombre in list(inventario16.keys()): # lo tengo q convertir en lista para poder eliminar o da error\n",
    "    if nombre == \"camiseta\":\n",
    "        inventario16.pop(nombre) # tambien sirve con pop.\n",
    "\n",
    "print(inventario16)"
   ]
  },
  {
   "cell_type": "code",
   "execution_count": 135,
   "metadata": {},
   "outputs": [
    {
     "name": "stdout",
     "output_type": "stream",
     "text": [
      "---------------------\n",
      "no existe, lo he insertado\n",
      "{'inventario': {'camiseta': {'precio': 15.99, 'stock': 15}}, 'ventas_totales': 0.0}\n",
      "----------------------\n",
      "no existe, lo he insertado\n",
      "{'inventario': {'camiseta': {'precio': 15.99, 'stock': 15}, 'minifaldas': {'precio': 15.99, 'stock': 15}}, 'ventas_totales': 0.0}\n",
      "----------------------\n",
      "no existe, lo he insertado\n",
      "{'inventario': {'camiseta': {'precio': 15.99, 'stock': 15}, 'minifaldas': {'precio': 15.99, 'stock': 15}, 'vestidos': {'precio': 34.99, 'stock': 20}}, 'ventas_totales': 0.0}\n",
      "------------------------\n",
      "Nombre: camiseta, Precio: 15.99, Stock: 15\n",
      "Nombre: minifaldas, Precio: 15.99, Stock: 15\n",
      "Nombre: vestidos, Precio: 34.99, Stock: 20\n",
      "------------------------\n",
      "Producto encontrado: Nombre: vestidos, Precio: 34.99, Stock: 20\n",
      "--------------------------\n",
      "el stock de camiseta se ha actualizado correctamente\n",
      "el producto no esta en el inventario\n",
      "el producto no esta en el inventario\n",
      "----------------------------\n",
      "el producto camiseta no existe en {'minifaldas': {'precio': 15.99, 'stock': 15}, 'vestidos': {'precio': 34.99, 'stock': 20}}\n"
     ]
    }
   ],
   "source": [
    "# prueba de codigo:\n",
    "\n",
    "mi_tienda = TiendaOnline()\n",
    "print(\"---------------------\") \n",
    "mi_tienda.agregar_modificar (\"camiseta\", 15.99, 15)\n",
    "print(mi_tienda.__dict__)\n",
    "print(\"----------------------\")\n",
    "mi_tienda.agregar_modificar (\"minifaldas\", 15.99, 15)\n",
    "print(mi_tienda.__dict__)\n",
    "print(\"----------------------\")\n",
    "mi_tienda.agregar_modificar (\"vestidos\", 34.99, 20)\n",
    "print(mi_tienda.__dict__)\n",
    "print(\"------------------------\")\n",
    "mi_tienda.ver_inventario()\n",
    "print(\"------------------------\")\n",
    "mi_tienda.buscar_producto(\"vestidos\")\n",
    "print(\"--------------------------\")\n",
    "mi_tienda.actualizar_stock(\"camiseta\",20)\n",
    "print(\"----------------------------\")\n",
    "mi_tienda.eliminar_producto (\"camiseta\")\n",
    "\n"
   ]
  },
  {
   "cell_type": "code",
   "execution_count": 136,
   "metadata": {},
   "outputs": [
    {
     "name": "stdout",
     "output_type": "stream",
     "text": [
      "{'inventario': {'minifaldas': {'precio': 15.99, 'stock': 15}, 'vestidos': {'precio': 34.99, 'stock': 20}}, 'ventas_totales': 0.0}\n"
     ]
    }
   ],
   "source": [
    "print(mi_tienda.__dict__)"
   ]
  },
  {
   "cell_type": "code",
   "execution_count": 137,
   "metadata": {},
   "outputs": [
    {
     "name": "stdout",
     "output_type": "stream",
     "text": [
      "no existe, lo he insertado\n",
      "{'inventario': {'minifaldas': {'precio': 15.99, 'stock': 15}, 'vestidos': {'precio': 34.99, 'stock': 20}, 'sueter': {'precio': 24.99, 'stock': 15}}, 'ventas_totales': 0.0}\n"
     ]
    }
   ],
   "source": [
    "mi_tienda.agregar_modificar(\"sueter\", 24.99, 15)\n",
    "print(mi_tienda.__dict__)"
   ]
  },
  {
   "cell_type": "markdown",
   "metadata": {},
   "source": [
    "7. calcular_valor_inventario(self)`: Calcula y muestra el valor total del inventario.\n",
    "\n",
    "    - Utiliza un bucle for para calcular el valor total del inventario.\n",
    "    - Itera a través del inventario y suma el valor de cada producto (precio x cantidad). Es decir, calcula el valor total del inventario. Ejemplo:\n",
    "\n",
    "    ```python\n",
    "    # si tenemos 5 camisas que valen 5 euros \n",
    "    # y 10 calcetines que valen 1 euro\n",
    "    # este método te tiene que devolver: 35 euros\n",
    "\n",
    "    valor_camisas = 5 * 5\n",
    "    valor_calcetines = 10 * 1\n",
    "\n",
    "    valor_camisas + valor_calcetines = 35\n",
    "    ```"
   ]
  },
  {
   "cell_type": "code",
   "execution_count": 138,
   "metadata": {},
   "outputs": [],
   "source": [
    "class TiendaOnline:\n",
    "    def __init__ (self):\n",
    "        self.inventario = {}\n",
    "        self.ventas_totales = 0.0  #pide q sea un float por lo tanto pongo 0.0\n",
    "    \n",
    "\n",
    "    # 2. agregar o modificar producto en stock.\n",
    "    def agregar_modificar(self, nombre, precio, stock): # metodo para agregar producto, incluyendo lo que nos pide el ejercicio.\n",
    "        if nombre in self.inventario:   # itero por el inventario,  si \"nombre\" in...\n",
    "            self.inventario [nombre][\"stock\"] = stock # si nombre esta en inventario, actualiza los valores\n",
    "            print( f\"ya existe {nombre}, solo lo actualizo\")\n",
    "        else:\n",
    "            self.inventario[nombre] = {\"precio\" :precio, \"stock\":stock}   # si el producto no esta en el inventario, lo añado como clave = nombre y valor= precio y stock\n",
    "            print (\"no existe, lo he insertado\")\n",
    "\n",
    "    \n",
    "    # 3. ver_inventario con detalle de producto, precio, stock.\n",
    "    \n",
    "    def ver_inventario(self):\n",
    "        for nombre, detalles_nombre in self.inventario.items():   # pongo detalles pq el dicc tiene dos valores (clave: nombre y valor: precio, stock)\n",
    "            print(f\"Nombre: {nombre}, Precio: {detalles_nombre['precio']}, Stock: {detalles_nombre['stock']}\")\n",
    "\n",
    "\n",
    "    # 4. buscar producto concreto en inventario:\n",
    "    def buscar_producto(self, nombre):\n",
    "        if nombre in self.inventario:\n",
    "            detalles = self.inventario[nombre] # le doy la variable detalles y le doy el valor del nombre que busco\n",
    "            print(f\"Producto encontrado:\\nNombre: {nombre}, Precio: {detalles['precio']}, Stock: {detalles['stock']}\")\n",
    "        else:\n",
    "            print(\"No tenemos stock de ese producto.\")\n",
    "    \n",
    "            #lo he hecho con if pero lo piden con for:\n",
    "    \n",
    "    \n",
    "    #5. actualizar stock.\n",
    "    def actualizar_stock(self, nombre, cantidad):  # solo ponemos nombre y cantidad porque solo quiero actualizar la cantidad de un producto\n",
    "        for producto, detalles in self.inventario.items():\n",
    "            if producto == nombre: #busco el producto por su nombre\n",
    "                detalles [\"stock\"] += cantidad  # sumo la cantidad, pongo stock porque no quiero el precio, solo actualizo el stock.\n",
    "                print (f\"el stock de {nombre} se ha actualizado correctamente\")\n",
    "            \n",
    "            else:\n",
    "                print (\"el producto no esta en el inventario\")\n",
    "        \n",
    "          ## preguntar pq printea tb que no esta en el inventario,, es decir, modifica el stock del producto y tb pon que no esta.\n",
    "    \n",
    "    # 6. eliminar producto del stock.\n",
    "    \n",
    "    def eliminar_producto(self, nombre):\n",
    "        for producto in list(self.inventario.keys()):\n",
    "            if nombre == producto:\n",
    "                del self.inventario [nombre]\n",
    "                break  # probar este break\n",
    "            else:\n",
    "                print(f\"el producto {nombre} no existe en {self.inventario}\")\n",
    "        \n",
    "    \n",
    "    # 7. calcular_valor_inventario(self)`: Calcula y muestra el valor total del inventario.\n",
    "\n",
    "    def calcular_valor_inventario(self):\n",
    "        total_producto = 0\n",
    "        for k,v in self.inventario.items():  # keys y values\n",
    "            print(k)\n",
    "            print (v[\"precio\"] * v[\"stock\"])\n",
    "            total_producto += v [\"precio\"] * v[ \"stock\"]\n",
    "            \n",
    "        \n",
    "        print(\"-------------------------\")\n",
    "\n",
    "        print(f\"el valor total del inventario es de {total_producto}€\")\n",
    "            \n",
    "\n",
    "\n",
    "\n",
    "\n"
   ]
  },
  {
   "cell_type": "code",
   "execution_count": 139,
   "metadata": {},
   "outputs": [
    {
     "name": "stdout",
     "output_type": "stream",
     "text": [
      "el valor de camiseta es de 239.85\n",
      "el valor de vestidos es de 699.8000000000001\n",
      "el valor de pantalones es de 299.88\n",
      "-----------------------\n",
      "El valor total del inventario es 1239.5300000000002€\n"
     ]
    }
   ],
   "source": [
    "# pruebas fuera de la clase:\n",
    "\n",
    "inventario16 = {\"camiseta\": (15.99, 15), \"vestidos\": (34.99, 20), \"pantalones\":(24.99, 12)}\n",
    "totales = []\n",
    "\n",
    "for nombre,(precio, cantidad) in inventario16.items(): #le pido que itere por los productos\n",
    "    total_por_producto= (precio * cantidad)\n",
    "    totales.append(total_por_producto)\n",
    "    print(f\"el valor de {nombre} es de {total_por_producto}\")\n",
    "\n",
    "print(\"-----------------------\")\n",
    "\n",
    "Valor_sotck_total = sum(totales)\n",
    "print(f\"El valor total del inventario es {Valor_sotck_total}€\")\n",
    "\n",
    "# notas de errores cometidos: he llegado a los totales individuales de cada producto,\n",
    "# pero no conseguia el total ya que no habia creado la lista TOTALES y me decia que los valores no estaban definidos.\n",
    "# una vez creada la lista tampoco me salia porque me aparecia lista vacia,\n",
    "# y me he dado cuenta q tenia q poner .append para incluirlos en la lista.\n",
    "\n",
    "# ahora a adaptarlo a la clase... bufff\n",
    "\n",
    "    \n",
    "    "
   ]
  },
  {
   "cell_type": "code",
   "execution_count": 140,
   "metadata": {},
   "outputs": [
    {
     "name": "stdout",
     "output_type": "stream",
     "text": [
      "---------------------\n",
      "no existe, lo he insertado\n",
      "{'inventario': {'camiseta': {'precio': 15.99, 'stock': 15}}, 'ventas_totales': 0.0}\n",
      "----------------------\n",
      "no existe, lo he insertado\n",
      "{'inventario': {'camiseta': {'precio': 15.99, 'stock': 15}, 'minifaldas': {'precio': 15.99, 'stock': 15}}, 'ventas_totales': 0.0}\n",
      "----------------------\n",
      "no existe, lo he insertado\n",
      "{'inventario': {'camiseta': {'precio': 15.99, 'stock': 15}, 'minifaldas': {'precio': 15.99, 'stock': 15}, 'vestidos': {'precio': 34.99, 'stock': 20}}, 'ventas_totales': 0.0}\n",
      "------------------------\n",
      "Nombre: camiseta, Precio: 15.99, Stock: 15\n",
      "Nombre: minifaldas, Precio: 15.99, Stock: 15\n",
      "Nombre: vestidos, Precio: 34.99, Stock: 20\n",
      "------------------------\n",
      "Producto encontrado:\n",
      "Nombre: vestidos, Precio: 34.99, Stock: 20\n",
      "--------------------------\n",
      "el stock de camiseta se ha actualizado correctamente\n",
      "el producto no esta en el inventario\n",
      "el producto no esta en el inventario\n",
      "----------------------------\n",
      "--------------------------\n",
      "no existe, lo he insertado\n",
      "-----------------------------\n"
     ]
    }
   ],
   "source": [
    "# prueba de codigo:\n",
    "\n",
    "mi_tienda = TiendaOnline()\n",
    "print(\"---------------------\") \n",
    "mi_tienda.agregar_modificar (\"camiseta\", 15.99, 15)\n",
    "print(mi_tienda.__dict__)\n",
    "print(\"----------------------\")\n",
    "mi_tienda.agregar_modificar (\"minifaldas\", 15.99, 15)\n",
    "print(mi_tienda.__dict__)\n",
    "print(\"----------------------\")\n",
    "mi_tienda.agregar_modificar (\"vestidos\", 34.99, 20)\n",
    "print(mi_tienda.__dict__)\n",
    "print(\"------------------------\")\n",
    "mi_tienda.ver_inventario()\n",
    "print(\"------------------------\")\n",
    "mi_tienda.buscar_producto(\"vestidos\")\n",
    "print(\"--------------------------\")\n",
    "mi_tienda.actualizar_stock(\"camiseta\",20)\n",
    "print(\"----------------------------\")\n",
    "mi_tienda.eliminar_producto (\"camiseta\")\n",
    "print(\"--------------------------\")\n",
    "mi_tienda.agregar_modificar (\"sudaderas\", 22.50, 18)\n",
    "print(\"-----------------------------\")"
   ]
  },
  {
   "cell_type": "code",
   "execution_count": 141,
   "metadata": {},
   "outputs": [
    {
     "name": "stdout",
     "output_type": "stream",
     "text": [
      "{'inventario': {'minifaldas': {'precio': 15.99, 'stock': 15}, 'vestidos': {'precio': 34.99, 'stock': 20}, 'sudaderas': {'precio': 22.5, 'stock': 18}}, 'ventas_totales': 0.0}\n"
     ]
    }
   ],
   "source": [
    "print(mi_tienda.__dict__)"
   ]
  },
  {
   "cell_type": "code",
   "execution_count": 142,
   "metadata": {},
   "outputs": [
    {
     "data": {
      "text/plain": [
       "{'minifaldas': {'precio': 15.99, 'stock': 15},\n",
       " 'vestidos': {'precio': 34.99, 'stock': 20},\n",
       " 'sudaderas': {'precio': 22.5, 'stock': 18}}"
      ]
     },
     "execution_count": 142,
     "metadata": {},
     "output_type": "execute_result"
    }
   ],
   "source": [
    "mi_tienda.inventario\n"
   ]
  },
  {
   "cell_type": "code",
   "execution_count": 143,
   "metadata": {},
   "outputs": [
    {
     "name": "stdout",
     "output_type": "stream",
     "text": [
      "minifaldas\n",
      "239.85\n",
      "vestidos\n",
      "699.8000000000001\n",
      "sudaderas\n",
      "405.0\n",
      "-------------------------\n",
      "el valor total del inventario es de 1344.65€\n"
     ]
    }
   ],
   "source": [
    "mi_tienda.calcular_valor_inventario()"
   ]
  },
  {
   "cell_type": "code",
   "execution_count": 144,
   "metadata": {},
   "outputs": [],
   "source": [
    "class TiendaOnline:\n",
    "    def __init__ (self):\n",
    "        self.inventario = {}\n",
    "        self.ventas_totales = 0.0  #pide q sea un float por lo tanto pongo 0.0\n",
    "    \n",
    "\n",
    "    # 2. agregar o modificar producto en stock.\n",
    "    def agregar_modificar(self, nombre, precio, stock): # metodo para agregar producto, incluyendo lo que nos pide el ejercicio.\n",
    "        if nombre in self.inventario:   # itero por el inventario,  si \"nombre\" in...\n",
    "            self.inventario [nombre][\"stock\"] = stock # si nombre esta en inventario, actualiza los valores\n",
    "            print( f\"ya existe {nombre}, solo lo actualizo\")\n",
    "        else:\n",
    "            self.inventario[nombre] = {\"precio\" :precio, \"stock\":stock}   # si el producto no esta en el inventario, lo añado como clave = nombre y valor= precio y stock\n",
    "            print (\"no existe, lo he insertado\")\n",
    "\n",
    "    \n",
    "    # 3. ver_inventario con detalle de producto, precio, stock.\n",
    "    \n",
    "    def ver_inventario(self):\n",
    "        for nombre, detalles_nombre in self.inventario.items():   # pongo detalles pq el dicc tiene dos valores (clave: nombre y valor: precio, stock)\n",
    "            print(f\"Nombre: {nombre}, Precio: {detalles_nombre['precio']}, Stock: {detalles_nombre['stock']}\")\n",
    "\n",
    "\n",
    "    # 4. buscar producto concreto en inventario:\n",
    "    def buscar_producto(self, nombre):\n",
    "        if nombre in self.inventario:\n",
    "            detalles = self.inventario[nombre] # le doy la variable detalles y le doy el valor del nombre que busco\n",
    "            print(f\"Producto encontrado:\\nNombre: {nombre}, Precio: {detalles['precio']}, Stock: {detalles['stock']}\")\n",
    "        else:\n",
    "            print(\"No tenemos stock de ese producto.\")\n",
    "    \n",
    "            #lo he hecho con if pero lo piden con for:\n",
    "    \n",
    "    \n",
    "    \n",
    "    #5. actualizar stock.\n",
    "    def actualizar_stock(self, nombre, cantidad):  # solo ponemos nombre y cantidad porque solo quiero actualizar la cantidad de un producto\n",
    "        for producto, detalles in self.inventario.items():\n",
    "            if producto == nombre: #busco el producto por su nombre\n",
    "                detalles [\"stock\"] += cantidad  # sumo la cantidad, pongo stock porque no quiero el precio, solo actualizo el stock.\n",
    "                print(f\"el stock de {nombre} se ha actualizado correctamente\")\n",
    "                break #rompe el bucle cuando encuentra el producto, sino seguira imprimiendo en cada iteracion.\n",
    "            \n",
    "        else:\n",
    "            print (\"el producto no esta en el inventario\")\n",
    "        \n",
    "          ## preguntar pq printea tb que no esta en el inventario,, es decir, modifica el stock del producto y tb pon que no esta, \n",
    "          # he puesto el break, he sacado el else del bucle y sigue imprimiendo.\n",
    "    \n",
    "    # 6. eliminar producto del stock.\n",
    "    \n",
    "    def eliminar_producto(self, nombre):\n",
    "        for producto in list(self.inventario.keys()):\n",
    "            if nombre == producto:\n",
    "                del self.inventario [nombre]\n",
    "                break  # probar este break\n",
    "            else:\n",
    "                print(f\"el producto {nombre} no existe en {self.inventario}\")\n",
    "        \n",
    "    \n",
    "    # 7. calcular_valor_inventario(self)`: Calcula y muestra el valor total del inventario.\n",
    "\n",
    "    def calcular_valor_inventario(self):\n",
    "        total_producto = 0\n",
    "        for k,v in self.inventario.items():  # keys y values\n",
    "            print(k)\n",
    "            print (v[\"precio\"] * v[\"stock\"])\n",
    "            total_producto += v [\"precio\"] * v[ \"stock\"]\n",
    "            \n",
    "        \n",
    "        print(\"-------------------------\")\n",
    "\n",
    "        print(f\"el valor total del inventario es de {total_producto}€\")"
   ]
  },
  {
   "cell_type": "code",
   "execution_count": 145,
   "metadata": {},
   "outputs": [
    {
     "data": {
      "text/plain": [
       "{'minifaldas': {'precio': 15.99, 'stock': 15},\n",
       " 'vestidos': {'precio': 34.99, 'stock': 20},\n",
       " 'sudaderas': {'precio': 22.5, 'stock': 18}}"
      ]
     },
     "execution_count": 145,
     "metadata": {},
     "output_type": "execute_result"
    }
   ],
   "source": [
    "mi_tienda.inventario"
   ]
  },
  {
   "cell_type": "code",
   "execution_count": 146,
   "metadata": {},
   "outputs": [
    {
     "name": "stdout",
     "output_type": "stream",
     "text": [
      "el stock de minifaldas se ha actualizado correctamente\n",
      "el producto no esta en el inventario\n",
      "el producto no esta en el inventario\n"
     ]
    }
   ],
   "source": [
    "mi_tienda.actualizar_stock(\"minifaldas\",18)"
   ]
  },
  {
   "cell_type": "code",
   "execution_count": 147,
   "metadata": {},
   "outputs": [],
   "source": [
    "class TiendaOnline:\n",
    "    def __init__ (self):\n",
    "        self.inventario = {}   # abro diccionario vacio.\n",
    "        self.ventas_totales = 0.0  #pide q sea un float por lo tanto pongo 0.0\n",
    "    \n",
    "\n",
    "    # 2. agregar o modificar producto en stock.\n",
    "    def agregar_modificar(self, nombre, precio, stock): # metodo para agregar producto, incluyendo lo que nos pide el ejercicio.\n",
    "        if nombre in self.inventario:   # itero por el inventario,  si \"nombre\" in...\n",
    "            self.inventario [nombre][\"stock\"] = stock # si nombre esta en inventario, actualiza los valores\n",
    "            print( f\"ya existe {nombre}, solo lo actualizo\")\n",
    "        else:\n",
    "            self.inventario[nombre] = {\"precio\" :precio, \"stock\":stock}   # si el producto no esta en el inventario, lo añado como clave = nombre y valor= precio y stock\n",
    "            print (f\"no existia {nombre}, lo he insertado en el inventario\")\n",
    "\n",
    "    \n",
    "    # 3. ver_inventario con detalle de producto, precio, stock.\n",
    "    \n",
    "    def ver_inventario(self):\n",
    "        for nombre, detalles_nombre in self.inventario.items():   # pongo detalles pq el dicc tiene dos valores (clave: nombre y valor: precio, stock)\n",
    "            print(f\"Nombre: {nombre}, Precio: {detalles_nombre['precio']}, Stock: {detalles_nombre['stock']}\")\n",
    "\n",
    "\n",
    "    # 4. buscar producto concreto en inventario:\n",
    "    def buscar_producto(self, nombre):\n",
    "        if nombre in self.inventario:\n",
    "            detalles = self.inventario[nombre] # le doy la variable detalles y le doy el valor del nombre que busco\n",
    "            print(f\"Producto encontrado:Nombre: {nombre}, Precio: {detalles['precio']}, Stock: {detalles['stock']}\")\n",
    "        else:\n",
    "            print(f\"No tenemos stock de {nombre}.\")\n",
    "    \n",
    "            #lo he hecho con if pero lo piden con for\n",
    "          \n",
    "\n",
    "    \n",
    "    #5. actualizar stock.\n",
    "    def actualizar_stock(self, nombre, cantidad):  # solo ponemos nombre y cantidad porque solo quiero actualizar la cantidad de un producto\n",
    "        for producto, detalles in self.inventario.items():\n",
    "            if producto == nombre: #busco el producto por su nombre\n",
    "                detalles [\"stock\"] += cantidad  # sumo la cantidad, pongo stock porque no quiero el precio, solo actualizo el stock.\n",
    "                print(f\"el stock de {nombre} se ha actualizado correctamente\")\n",
    "                break #rompe el bucle cuando encuentra el producto, sino seguira imprimiendo en cada iteracion.\n",
    "            \n",
    "        else:\n",
    "            print (\"el producto no esta en el inventario\")\n",
    "        \n",
    "          ## preguntar pq printea tb que no esta en el inventario,, es decir, modifica el stock del producto y tb pon que no esta, \n",
    "          # he puesto el break, he sacado el else del bucle y sigue imprimiendo.\n",
    "    \n",
    "    # 6. eliminar producto del stock.\n",
    "    \n",
    "    def eliminar_producto(self, nombre):\n",
    "        for producto in list(self.inventario.keys()):\n",
    "            if nombre == producto:\n",
    "                del self.inventario [nombre]\n",
    "                break  # probar este break\n",
    "            else:\n",
    "                print(f\"el producto {nombre} no existe en {self.inventario}\")\n",
    "        \n",
    "    \n",
    "    # 7. calcular_valor_inventario(self)`: Calcula y muestra el valor total del inventario.\n",
    "\n",
    "    def calcular_valor_inventario(self):\n",
    "        total_producto = 0\n",
    "        for k,v in self.inventario.items():  # keys y values\n",
    "            print(k)\n",
    "            print (v[\"precio\"] * v[\"stock\"])\n",
    "            total_producto += v [\"precio\"] * v[ \"stock\"]\n",
    "            \n",
    "        \n",
    "        print(\"-------------------------\")\n",
    "\n",
    "        print(f\"el valor total del inventario es de {total_producto}€\")"
   ]
  },
  {
   "cell_type": "markdown",
   "metadata": {},
   "source": [
    "Ismael: ejercicio 4 con for.\n",
    "def buscar_producto(self, nombre_buscado):\n",
    "        encontrado = False  # Variable para verificar si encontramos el producto\n",
    "        for nombre, detalles in self.inventario.items():\n",
    "            if nombre == nombre_buscado:\n",
    "                print(f\"Producto encontrado:\\nNombre: {nombre}, Precio: {detalles['precio']}, Stock: {detalles['stock']}\")\n",
    "                encontrado = True\n",
    "                break  # Terminamos el bucle si encontramos el producto\n",
    "        if not encontrado:\n",
    "            print(\"No tenemos stock de ese producto.\")"
   ]
  },
  {
   "cell_type": "markdown",
   "metadata": {},
   "source": [
    "BONUS:\n",
    "1. Para realizar esta parte, debes añadir los siguientes atributos a la clase `TiendaOnline`:\n",
    "\n",
    "- `clientes` (diccionario): Un atributo para llevar un registro de los clientes de la tienda. Cada cliente debe ser representado como un diccionario con las siguientes claves: `'nombre'` y `'email'`. Al inicio deberá ser un diccionario vacío. Además, cada cliente debe tener un historial de compras. Deberá parecerse a:\n",
    "\n",
    "    ```python\n",
    "        {'Cliente1': {'email': 'cliente1@email.com', 'compras': []},\n",
    "        'Cliente2': {'email': 'cliente2@email.com', 'compras': []}}\n",
    "\n",
    "Y posteriormente, debes añadir los siguientes métodos a la clase `TiendaOnline`:\n",
    "\n",
    "1. `agregar_cliente(self, nombre, email)`: Agrega un nuevo cliente al registro de clientes. Debe recibir el nombre y el correo electrónico del cliente como parámetros.\n",
    "    - Agrega un cliente al diccionario de clientes con su nombre y correo electrónico."
   ]
  },
  {
   "cell_type": "code",
   "execution_count": 153,
   "metadata": {},
   "outputs": [],
   "source": [
    "class TiendaOnline:\n",
    "    def __init__ (self): # ATRIBUTOS\n",
    "        self.inventario = {}   # abro diccionario vacio.\n",
    "        self.ventas_totales = 0.0  #pide q sea un float por lo tanto pongo 0.0\n",
    "        self.clientes = {}  # atributo nuevo bonus\n",
    "    \n",
    "\n",
    "    # 2. agregar o modificar producto en stock.\n",
    "    def agregar_modificar(self, nombre, precio, stock): # metodo para agregar producto, incluyendo lo que nos pide el ejercicio.\n",
    "        if nombre in self.inventario:   # itero por el inventario,  si \"nombre\" in...\n",
    "            self.inventario [nombre][\"stock\"] = stock # si nombre esta en inventario, actualiza los valores\n",
    "            print( f\"ya existe {nombre}, solo lo actualizo\")\n",
    "        else:\n",
    "            self.inventario[nombre] = {\"precio\" :precio, \"stock\":stock}   # si el producto no esta en el inventario, lo añado como clave = nombre y valor= precio y stock\n",
    "            print (f\"no existia {nombre}, lo he insertado en el inventario\")\n",
    "\n",
    "    \n",
    "    # 3. ver_inventario con detalle de producto, precio, stock.\n",
    "    \n",
    "    def ver_inventario(self):\n",
    "        for nombre, detalles_nombre in self.inventario.items():   # pongo detalles pq el dicc tiene dos valores (clave: nombre y valor: precio, stock)\n",
    "            print(f\"Nombre: {nombre}, Precio: {detalles_nombre['precio']}, Stock: {detalles_nombre['stock']}\")\n",
    "\n",
    "\n",
    "    # 4. buscar producto concreto en inventario:\n",
    "    def buscar_producto(self, nombre):\n",
    "        if nombre in self.inventario:\n",
    "            detalles = self.inventario[nombre] # le doy la variable detalles y le doy el valor del nombre que busco\n",
    "            print(f\"Producto encontrado:Nombre: {nombre}, Precio: {detalles['precio']}, Stock: {detalles['stock']}\")\n",
    "        else:\n",
    "            print(f\"No tenemos stock de {nombre}.\")\n",
    "    \n",
    "            #lo he hecho con if pero lo piden con for\n",
    "          \n",
    "\n",
    "    \n",
    "    #5. actualizar stock.\n",
    "    def actualizar_stock(self, nombre, cantidad):  # solo ponemos nombre y cantidad porque solo quiero actualizar la cantidad de un producto\n",
    "        for producto, detalles in self.inventario.items():\n",
    "            if producto == nombre: #busco el producto por su nombre\n",
    "                detalles [\"stock\"] += cantidad  # sumo la cantidad, pongo stock porque no quiero el precio, solo actualizo el stock.\n",
    "                print(f\"el stock de {nombre} se ha actualizado correctamente\")\n",
    "                break #rompe el bucle cuando encuentra el producto, sino seguira imprimiendo en cada iteracion.\n",
    "            \n",
    "        else:\n",
    "            print (\"el producto no esta en el inventario\")\n",
    "        \n",
    "          ## preguntar pq printea tb que no esta en el inventario,, es decir, modifica el stock del producto y tb pon que no esta, \n",
    "          # he puesto el break, he sacado el else del bucle y sigue imprimiendo.\n",
    "    \n",
    "    # 6. eliminar producto del stock.\n",
    "    \n",
    "    def eliminar_producto(self, nombre):\n",
    "        for producto in list(self.inventario.keys()):\n",
    "            if nombre == producto:\n",
    "                del self.inventario [nombre]\n",
    "                break  # probar este break\n",
    "            else:\n",
    "                print(f\"el producto {nombre} no existe en {self.inventario}\")\n",
    "        \n",
    "    \n",
    "    # 7. calcular_valor_inventario(self)`: Calcula y muestra el valor total del inventario.\n",
    "\n",
    "    def calcular_valor_inventario(self):\n",
    "        total_producto = 0\n",
    "        for k,v in self.inventario.items():  # keys y values\n",
    "            print(k)\n",
    "            print (v[\"precio\"] * v[\"stock\"])\n",
    "            total_producto += v [\"precio\"] * v[ \"stock\"]\n",
    "            \n",
    "        \n",
    "        print(\"-------------------------\")\n",
    "\n",
    "        print(f\"el valor total del inventario es de {total_producto}€\")\n",
    "\n",
    "\n",
    "    #bonus: \n",
    "    # 8:`agregar_cliente(self, nombre, email)`: Agrega un nuevo cliente al registro de clientes. \n",
    "    # Debe recibir el nombre y el correo electrónico del cliente como parámetros.\n",
    "\n",
    "    def agregar_cliente(self, nombre_cliente, email):  # metodo para agregar cliente\n",
    "        nombre_cliente = nombre_cliente.lower() # convierto el nombre a minusculas para evitar q se dupliquen\n",
    "        \n",
    "        if nombre_cliente in self.clientes:\n",
    "            print(f\"el cliente {nombre_cliente} ya existe\")\n",
    "        \n",
    "        else:\n",
    "            self.clientes[nombre_cliente] = [email]\n",
    "            print (f\"el cliente {nombre_cliente} no existe, lo damos de alta como nuevo cliente.\")\n",
    "   "
   ]
  },
  {
   "cell_type": "code",
   "execution_count": 154,
   "metadata": {},
   "outputs": [
    {
     "name": "stdout",
     "output_type": "stream",
     "text": [
      "---------------------\n",
      "no existia camiseta, lo he insertado en el inventario\n",
      "{'inventario': {'camiseta': {'precio': 15.99, 'stock': 15}}, 'ventas_totales': 0.0, 'clientes': {}}\n",
      "----------------------\n",
      "no existia minifaldas, lo he insertado en el inventario\n",
      "{'inventario': {'camiseta': {'precio': 15.99, 'stock': 15}, 'minifaldas': {'precio': 15.99, 'stock': 15}}, 'ventas_totales': 0.0, 'clientes': {}}\n",
      "----------------------\n",
      "no existia vestidos, lo he insertado en el inventario\n",
      "{'inventario': {'camiseta': {'precio': 15.99, 'stock': 15}, 'minifaldas': {'precio': 15.99, 'stock': 15}, 'vestidos': {'precio': 34.99, 'stock': 20}}, 'ventas_totales': 0.0, 'clientes': {}}\n",
      "------------------------\n",
      "Nombre: camiseta, Precio: 15.99, Stock: 15\n",
      "Nombre: minifaldas, Precio: 15.99, Stock: 15\n",
      "Nombre: vestidos, Precio: 34.99, Stock: 20\n",
      "------------------------\n",
      "Producto encontrado:Nombre: vestidos, Precio: 34.99, Stock: 20\n",
      "--------------------------\n",
      "el stock de camiseta se ha actualizado correctamente\n",
      "----------------------------\n",
      "--------------------------\n",
      "no existia sudaderas, lo he insertado en el inventario\n",
      "-----------------------------\n",
      "el cliente carla gonzalez no existe, lo damos de alta como nuevo cliente.\n"
     ]
    }
   ],
   "source": [
    "# prueba de codigo:\n",
    "\n",
    "mi_tienda = TiendaOnline()\n",
    "print(\"---------------------\") \n",
    "mi_tienda.agregar_modificar (\"camiseta\", 15.99, 15)\n",
    "print(mi_tienda.__dict__)\n",
    "print(\"----------------------\")\n",
    "mi_tienda.agregar_modificar (\"minifaldas\", 15.99, 15)\n",
    "print(mi_tienda.__dict__)\n",
    "print(\"----------------------\")\n",
    "mi_tienda.agregar_modificar (\"vestidos\", 34.99, 20)\n",
    "print(mi_tienda.__dict__)\n",
    "print(\"------------------------\")\n",
    "mi_tienda.ver_inventario()\n",
    "print(\"------------------------\")\n",
    "mi_tienda.buscar_producto(\"vestidos\")\n",
    "print(\"--------------------------\")\n",
    "mi_tienda.actualizar_stock(\"camiseta\",20)\n",
    "print(\"----------------------------\")\n",
    "mi_tienda.eliminar_producto (\"camiseta\")\n",
    "print(\"--------------------------\")\n",
    "mi_tienda.agregar_modificar (\"sudaderas\", 22.50, 18)\n",
    "print(\"-----------------------------\")\n",
    "mi_tienda.agregar_cliente (\"Carla Gonzalez\", \"carlagon@gmail.com\")"
   ]
  },
  {
   "cell_type": "code",
   "execution_count": 155,
   "metadata": {},
   "outputs": [
    {
     "data": {
      "text/plain": [
       "{'carla gonzalez': ['carlagon@gmail.com']}"
      ]
     },
     "execution_count": 155,
     "metadata": {},
     "output_type": "execute_result"
    }
   ],
   "source": [
    "mi_tienda.clientes"
   ]
  },
  {
   "cell_type": "markdown",
   "metadata": {},
   "source": [
    "1. `ver_clientes(self)`: Muestra la lista de clientes registrados con sus nombres y correos electrónicos.\n",
    "\n",
    "    - Utiliza un bucle `for` para recorrer la base de datos de clientes.\n",
    "    - Imprime los detalles de cada cliente (nombre y correo electrónico)."
   ]
  },
  {
   "cell_type": "code",
   "execution_count": null,
   "metadata": {},
   "outputs": [],
   "source": [
    "class TiendaOnline:\n",
    "    def __init__ (self): # ATRIBUTOS\n",
    "        self.inventario = {}   # abro diccionario vacio.\n",
    "        self.ventas_totales = 0.0  #pide q sea un float por lo tanto pongo 0.0\n",
    "        self.clientes = {}  # atributo nuevo bonus\n",
    "    \n",
    "\n",
    "    # 2. agregar o modificar producto en stock.\n",
    "    def agregar_modificar(self, nombre, precio, stock): # metodo para agregar producto, incluyendo lo que nos pide el ejercicio.\n",
    "        if nombre in self.inventario:   # itero por el inventario,  si \"nombre\" in...\n",
    "            self.inventario [nombre][\"stock\"] = stock # si nombre esta en inventario, actualiza los valores\n",
    "            print( f\"ya existe {nombre}, solo lo actualizo\")\n",
    "        else:\n",
    "            self.inventario[nombre] = {\"precio\" :precio, \"stock\":stock}   # si el producto no esta en el inventario, lo añado como clave = nombre y valor= precio y stock\n",
    "            print (f\"no existia {nombre}, lo he insertado en el inventario\")\n",
    "\n",
    "    \n",
    "    # 3. ver_inventario con detalle de producto, precio, stock.\n",
    "    \n",
    "    def ver_inventario(self):\n",
    "        for nombre, detalles_nombre in self.inventario.items():   # pongo detalles pq el dicc tiene dos valores (clave: nombre y valor: precio, stock)\n",
    "            print(f\"Nombre: {nombre}, Precio: {detalles_nombre['precio']}, Stock: {detalles_nombre['stock']}\")\n",
    "\n",
    "\n",
    "    # 4. buscar producto concreto en inventario:\n",
    "    def buscar_producto(self, nombre):\n",
    "        if nombre in self.inventario:\n",
    "            detalles = self.inventario[nombre] # le doy la variable detalles y le doy el valor del nombre que busco\n",
    "            print(f\"Producto encontrado:Nombre: {nombre}, Precio: {detalles['precio']}, Stock: {detalles['stock']}\")\n",
    "        else:\n",
    "            print(f\"No tenemos stock de {nombre}.\")\n",
    "    \n",
    "            #lo he hecho con if pero lo piden con for\n",
    "          \n",
    "\n",
    "    \n",
    "    #5. actualizar stock.\n",
    "    def actualizar_stock(self, nombre, cantidad):  # solo ponemos nombre y cantidad porque solo quiero actualizar la cantidad de un producto\n",
    "        for producto, detalles in self.inventario.items():\n",
    "            if producto == nombre: #busco el producto por su nombre\n",
    "                detalles [\"stock\"] += cantidad  # sumo la cantidad, pongo stock porque no quiero el precio, solo actualizo el stock.\n",
    "                print(f\"el stock de {nombre} se ha actualizado correctamente\")\n",
    "                break #rompe el bucle cuando encuentra el producto, sino seguira imprimiendo en cada iteracion.\n",
    "            \n",
    "        else:\n",
    "            print (\"el producto no esta en el inventario\")\n",
    "        \n",
    "          ## preguntar pq printea tb que no esta en el inventario,, es decir, modifica el stock del producto y tb pon que no esta, \n",
    "          # he puesto el break, he sacado el else del bucle y sigue imprimiendo.\n",
    "    \n",
    "    # 6. eliminar producto del stock.\n",
    "    \n",
    "    def eliminar_producto(self, nombre):\n",
    "        for producto in list(self.inventario.keys()):\n",
    "            if nombre == producto:\n",
    "                del self.inventario [nombre]\n",
    "                break  # probar este break\n",
    "            else:\n",
    "                print(f\"el producto {nombre} no existe en {self.inventario}\")\n",
    "        \n",
    "    \n",
    "    # 7. calcular_valor_inventario(self)`: Calcula y muestra el valor total del inventario.\n",
    "\n",
    "    def calcular_valor_inventario(self):\n",
    "        total_producto = 0\n",
    "        for k,v in self.inventario.items():  # keys y values\n",
    "            print(k)\n",
    "            print (v[\"precio\"] * v[\"stock\"])\n",
    "            total_producto += v [\"precio\"] * v[ \"stock\"]\n",
    "            \n",
    "        \n",
    "        print(\"-------------------------\")\n",
    "\n",
    "        print(f\"el valor total del inventario es de {total_producto}€\")\n",
    "\n",
    "\n",
    "    \n",
    "    #bonus: \n",
    "    # 8:`agregar_cliente(self, nombre, email)`: Agrega un nuevo cliente al registro de clientes. \n",
    "    # Debe recibir el nombre y el correo electrónico del cliente como parámetros.\n",
    "\n",
    "    def agregar_cliente(self, nombre_cliente, email):  # metodo para agregar cliente\n",
    "        nombre_cliente = nombre_cliente.lower() # convierto el nombre a minusculas para evitar q se dupliquen\n",
    "        \n",
    "        if nombre_cliente in self.clientes:\n",
    "            print(f\"el cliente {nombre_cliente} ya existe\")\n",
    "        \n",
    "        else:\n",
    "            self.clientes[nombre_cliente] = [email]\n",
    "            print (f\"el cliente {nombre_cliente} no existe, lo damos de alta como nuevo cliente.\")\n",
    "    \n",
    "    #9: `ver_clientes(self)`: Muestra la lista de clientes registrados con sus nombres y correos electrónicos, \n",
    "    # Utiliza un bucle `for` para recorrer la base de datos de clientes.\n",
    "    # - Imprime los detalles de cada cliente (nombre y correo electrónico).\n",
    "\n",
    "    def ver_clientes(self):\n",
    "        for nombre_cliente, email in self.clientes.items(): # habia puesto solo nombre cliente, ver A.\n",
    "            print(f\"Cliente: {nombre_cliente}, Email: {email}\")\n",
    "\n",
    "\n",
    "        # A: self.clientes.items() devuelve pares (nombre, email), pero solo habia (nombre_cliente), lo que da error.\n",
    "\n",
    "\n",
    "\n",
    "\n",
    "\n"
   ]
  },
  {
   "cell_type": "code",
   "execution_count": 162,
   "metadata": {},
   "outputs": [
    {
     "name": "stdout",
     "output_type": "stream",
     "text": [
      "---------------------\n",
      "no existia camiseta, lo he insertado en el inventario\n",
      "{'inventario': {'camiseta': {'precio': 15.99, 'stock': 15}}, 'ventas_totales': 0.0, 'clientes': {}}\n",
      "----------------------\n",
      "no existia minifaldas, lo he insertado en el inventario\n",
      "{'inventario': {'camiseta': {'precio': 15.99, 'stock': 15}, 'minifaldas': {'precio': 15.99, 'stock': 15}}, 'ventas_totales': 0.0, 'clientes': {}}\n",
      "----------------------\n",
      "no existia vestidos, lo he insertado en el inventario\n",
      "{'inventario': {'camiseta': {'precio': 15.99, 'stock': 15}, 'minifaldas': {'precio': 15.99, 'stock': 15}, 'vestidos': {'precio': 34.99, 'stock': 20}}, 'ventas_totales': 0.0, 'clientes': {}}\n",
      "------------------------\n",
      "Nombre: camiseta, Precio: 15.99, Stock: 15\n",
      "Nombre: minifaldas, Precio: 15.99, Stock: 15\n",
      "Nombre: vestidos, Precio: 34.99, Stock: 20\n",
      "------------------------\n",
      "Producto encontrado:Nombre: vestidos, Precio: 34.99, Stock: 20\n",
      "--------------------------\n",
      "el stock de camiseta se ha actualizado correctamente\n",
      "----------------------------\n",
      "--------------------------\n",
      "no existia sudaderas, lo he insertado en el inventario\n",
      "-----------------------------\n",
      "el cliente carla gonzalez no existe, lo damos de alta como nuevo cliente.\n",
      "---------------------------\n",
      "Cliente: carla gonzalez, Email: ['carlagon@gmail.com']\n"
     ]
    }
   ],
   "source": [
    "# prueba de codigo:\n",
    "\n",
    "mi_tienda = TiendaOnline()\n",
    "print(\"---------------------\") \n",
    "mi_tienda.agregar_modificar (\"camiseta\", 15.99, 15)\n",
    "print(mi_tienda.__dict__)\n",
    "print(\"----------------------\")\n",
    "mi_tienda.agregar_modificar (\"minifaldas\", 15.99, 15)\n",
    "print(mi_tienda.__dict__)\n",
    "print(\"----------------------\")\n",
    "mi_tienda.agregar_modificar (\"vestidos\", 34.99, 20)\n",
    "print(mi_tienda.__dict__)\n",
    "print(\"------------------------\")\n",
    "mi_tienda.ver_inventario()\n",
    "print(\"------------------------\")\n",
    "mi_tienda.buscar_producto(\"vestidos\")\n",
    "print(\"--------------------------\")\n",
    "mi_tienda.actualizar_stock(\"camiseta\",20)\n",
    "print(\"----------------------------\")\n",
    "mi_tienda.eliminar_producto (\"camiseta\")\n",
    "print(\"--------------------------\")\n",
    "mi_tienda.agregar_modificar (\"sudaderas\", 22.50, 18)\n",
    "print(\"-----------------------------\")\n",
    "mi_tienda.agregar_cliente (\"Carla Gonzalez\", \"carlagon@gmail.com\")\n",
    "print(\"---------------------------\")\n",
    "mi_tienda.ver_clientes()"
   ]
  }
 ],
 "metadata": {
  "kernelspec": {
   "display_name": "Python 3",
   "language": "python",
   "name": "python3"
  },
  "language_info": {
   "codemirror_mode": {
    "name": "ipython",
    "version": 3
   },
   "file_extension": ".py",
   "mimetype": "text/x-python",
   "name": "python",
   "nbconvert_exporter": "python",
   "pygments_lexer": "ipython3",
   "version": "3.9.6"
  }
 },
 "nbformat": 4,
 "nbformat_minor": 2
}
